{
 "cells": [
  {
   "cell_type": "code",
   "execution_count": 5,
   "id": "initial_id",
   "metadata": {
    "collapsed": true,
    "ExecuteTime": {
     "end_time": "2023-09-21T16:11:50.449027639Z",
     "start_time": "2023-09-21T16:11:50.126379575Z"
    }
   },
   "outputs": [],
   "source": [
    "#importing necessary libraries\n",
    "import pandas as pd\n",
    "import numpy as np\n",
    "import seaborn as sns\n",
    "import matplotlib.pyplot as plt\n",
    "from sklearn.ensemble import RandomForestClassifier,AdaBoostClassifier,GradientBoostingClassifier\n",
    "from sklearn.preprocessing import LabelEncoder,MinMaxScaler,OrdinalEncoder,OneHotEncoder\n",
    "from sklearn.compose import ColumnTransformer\n",
    "from xgboost import XGBClassifier\n",
    "from sklearn.pipeline import Pipeline\n",
    "from sklearn.model_selection import train_test_split\n",
    "from sklearn.linear_model import LogisticRegression\n",
    "from sklearn.metrics import *\n",
    "import warnings\n",
    "warnings.simplefilter('ignore')\n",
    "plt.style.use('ggplot')"
   ]
  },
  {
   "cell_type": "code",
   "execution_count": 6,
   "outputs": [],
   "source": [
    "url = \"http://archive.ics.uci.edu/ml/machine-learning-databases/adult/adult.data\"\n",
    "\n",
    "#----------------columns to select-----------------#\n",
    "column_names = [\n",
    "    \"age\", \"workclass\", \"fnlwgt\", \"education\", \"education-num\", \"marital-status\",\n",
    "    \"occupation\", \"relationship\", \"race\", \"sex\", \"capital-gain\", \"capital-loss\",\n",
    "    \"hours-per-week\", \"native-country\", \"income\"\n",
    "]\n",
    "\n",
    "#---------------read data----------------#\n",
    "data = pd.read_csv(url, names=column_names, sep=',\\s*', engine='python')"
   ],
   "metadata": {
    "collapsed": false,
    "ExecuteTime": {
     "end_time": "2023-09-21T16:11:53.213565007Z",
     "start_time": "2023-09-21T16:11:50.140358269Z"
    }
   },
   "id": "e406cd7101bc4845"
  },
  {
   "cell_type": "code",
   "execution_count": 7,
   "outputs": [
    {
     "data": {
      "text/plain": "   age         workclass  fnlwgt  education  education-num  \\\n0   39         State-gov   77516  Bachelors             13   \n1   50  Self-emp-not-inc   83311  Bachelors             13   \n2   38           Private  215646    HS-grad              9   \n3   53           Private  234721       11th              7   \n4   28           Private  338409  Bachelors             13   \n\n       marital-status         occupation   relationship   race     sex  \\\n0       Never-married       Adm-clerical  Not-in-family  White    Male   \n1  Married-civ-spouse    Exec-managerial        Husband  White    Male   \n2            Divorced  Handlers-cleaners  Not-in-family  White    Male   \n3  Married-civ-spouse  Handlers-cleaners        Husband  Black    Male   \n4  Married-civ-spouse     Prof-specialty           Wife  Black  Female   \n\n   capital-gain  capital-loss  hours-per-week native-country income  \n0          2174             0              40  United-States  <=50K  \n1             0             0              13  United-States  <=50K  \n2             0             0              40  United-States  <=50K  \n3             0             0              40  United-States  <=50K  \n4             0             0              40           Cuba  <=50K  ",
      "text/html": "<div>\n<style scoped>\n    .dataframe tbody tr th:only-of-type {\n        vertical-align: middle;\n    }\n\n    .dataframe tbody tr th {\n        vertical-align: top;\n    }\n\n    .dataframe thead th {\n        text-align: right;\n    }\n</style>\n<table border=\"1\" class=\"dataframe\">\n  <thead>\n    <tr style=\"text-align: right;\">\n      <th></th>\n      <th>age</th>\n      <th>workclass</th>\n      <th>fnlwgt</th>\n      <th>education</th>\n      <th>education-num</th>\n      <th>marital-status</th>\n      <th>occupation</th>\n      <th>relationship</th>\n      <th>race</th>\n      <th>sex</th>\n      <th>capital-gain</th>\n      <th>capital-loss</th>\n      <th>hours-per-week</th>\n      <th>native-country</th>\n      <th>income</th>\n    </tr>\n  </thead>\n  <tbody>\n    <tr>\n      <th>0</th>\n      <td>39</td>\n      <td>State-gov</td>\n      <td>77516</td>\n      <td>Bachelors</td>\n      <td>13</td>\n      <td>Never-married</td>\n      <td>Adm-clerical</td>\n      <td>Not-in-family</td>\n      <td>White</td>\n      <td>Male</td>\n      <td>2174</td>\n      <td>0</td>\n      <td>40</td>\n      <td>United-States</td>\n      <td>&lt;=50K</td>\n    </tr>\n    <tr>\n      <th>1</th>\n      <td>50</td>\n      <td>Self-emp-not-inc</td>\n      <td>83311</td>\n      <td>Bachelors</td>\n      <td>13</td>\n      <td>Married-civ-spouse</td>\n      <td>Exec-managerial</td>\n      <td>Husband</td>\n      <td>White</td>\n      <td>Male</td>\n      <td>0</td>\n      <td>0</td>\n      <td>13</td>\n      <td>United-States</td>\n      <td>&lt;=50K</td>\n    </tr>\n    <tr>\n      <th>2</th>\n      <td>38</td>\n      <td>Private</td>\n      <td>215646</td>\n      <td>HS-grad</td>\n      <td>9</td>\n      <td>Divorced</td>\n      <td>Handlers-cleaners</td>\n      <td>Not-in-family</td>\n      <td>White</td>\n      <td>Male</td>\n      <td>0</td>\n      <td>0</td>\n      <td>40</td>\n      <td>United-States</td>\n      <td>&lt;=50K</td>\n    </tr>\n    <tr>\n      <th>3</th>\n      <td>53</td>\n      <td>Private</td>\n      <td>234721</td>\n      <td>11th</td>\n      <td>7</td>\n      <td>Married-civ-spouse</td>\n      <td>Handlers-cleaners</td>\n      <td>Husband</td>\n      <td>Black</td>\n      <td>Male</td>\n      <td>0</td>\n      <td>0</td>\n      <td>40</td>\n      <td>United-States</td>\n      <td>&lt;=50K</td>\n    </tr>\n    <tr>\n      <th>4</th>\n      <td>28</td>\n      <td>Private</td>\n      <td>338409</td>\n      <td>Bachelors</td>\n      <td>13</td>\n      <td>Married-civ-spouse</td>\n      <td>Prof-specialty</td>\n      <td>Wife</td>\n      <td>Black</td>\n      <td>Female</td>\n      <td>0</td>\n      <td>0</td>\n      <td>40</td>\n      <td>Cuba</td>\n      <td>&lt;=50K</td>\n    </tr>\n  </tbody>\n</table>\n</div>"
     },
     "execution_count": 7,
     "metadata": {},
     "output_type": "execute_result"
    }
   ],
   "source": [
    "data.head()"
   ],
   "metadata": {
    "collapsed": false,
    "ExecuteTime": {
     "end_time": "2023-09-21T16:11:53.214334600Z",
     "start_time": "2023-09-21T16:11:50.705355942Z"
    }
   },
   "id": "e4eae0ea8b7e0283"
  },
  {
   "cell_type": "code",
   "execution_count": 8,
   "outputs": [
    {
     "data": {
      "text/plain": "(32561, 15)"
     },
     "execution_count": 8,
     "metadata": {},
     "output_type": "execute_result"
    }
   ],
   "source": [
    "#--check rows of the data--#\n",
    "data.shape"
   ],
   "metadata": {
    "collapsed": false,
    "ExecuteTime": {
     "end_time": "2023-09-21T16:11:53.214621943Z",
     "start_time": "2023-09-21T16:11:50.705772869Z"
    }
   },
   "id": "2a84723e968699c2"
  },
  {
   "cell_type": "code",
   "execution_count": 9,
   "outputs": [
    {
     "data": {
      "text/plain": "age               0\nworkclass         0\nfnlwgt            0\neducation         0\neducation-num     0\nmarital-status    0\noccupation        0\nrelationship      0\nrace              0\nsex               0\ncapital-gain      0\ncapital-loss      0\nhours-per-week    0\nnative-country    0\nincome            0\ndtype: int64"
     },
     "execution_count": 9,
     "metadata": {},
     "output_type": "execute_result"
    }
   ],
   "source": [
    "#check all null values\n",
    "data.isnull().sum()"
   ],
   "metadata": {
    "collapsed": false,
    "ExecuteTime": {
     "end_time": "2023-09-21T16:11:53.214886062Z",
     "start_time": "2023-09-21T16:11:50.705963940Z"
    }
   },
   "id": "326e108cfe5a477b"
  },
  {
   "cell_type": "markdown",
   "source": [
    "No Null values"
   ],
   "metadata": {
    "collapsed": false
   },
   "id": "d36ff938ddb13165"
  },
  {
   "cell_type": "code",
   "execution_count": 10,
   "outputs": [
    {
     "data": {
      "text/plain": "                age        fnlwgt  education-num  capital-gain  capital-loss  \\\ncount  32561.000000  3.256100e+04   32561.000000  32561.000000  32561.000000   \nmean      38.581647  1.897784e+05      10.080679   1077.648844     87.303830   \nstd       13.640433  1.055500e+05       2.572720   7385.292085    402.960219   \nmin       17.000000  1.228500e+04       1.000000      0.000000      0.000000   \n25%       28.000000  1.178270e+05       9.000000      0.000000      0.000000   \n50%       37.000000  1.783560e+05      10.000000      0.000000      0.000000   \n75%       48.000000  2.370510e+05      12.000000      0.000000      0.000000   \nmax       90.000000  1.484705e+06      16.000000  99999.000000   4356.000000   \n\n       hours-per-week  \ncount    32561.000000  \nmean        40.437456  \nstd         12.347429  \nmin          1.000000  \n25%         40.000000  \n50%         40.000000  \n75%         45.000000  \nmax         99.000000  ",
      "text/html": "<div>\n<style scoped>\n    .dataframe tbody tr th:only-of-type {\n        vertical-align: middle;\n    }\n\n    .dataframe tbody tr th {\n        vertical-align: top;\n    }\n\n    .dataframe thead th {\n        text-align: right;\n    }\n</style>\n<table border=\"1\" class=\"dataframe\">\n  <thead>\n    <tr style=\"text-align: right;\">\n      <th></th>\n      <th>age</th>\n      <th>fnlwgt</th>\n      <th>education-num</th>\n      <th>capital-gain</th>\n      <th>capital-loss</th>\n      <th>hours-per-week</th>\n    </tr>\n  </thead>\n  <tbody>\n    <tr>\n      <th>count</th>\n      <td>32561.000000</td>\n      <td>3.256100e+04</td>\n      <td>32561.000000</td>\n      <td>32561.000000</td>\n      <td>32561.000000</td>\n      <td>32561.000000</td>\n    </tr>\n    <tr>\n      <th>mean</th>\n      <td>38.581647</td>\n      <td>1.897784e+05</td>\n      <td>10.080679</td>\n      <td>1077.648844</td>\n      <td>87.303830</td>\n      <td>40.437456</td>\n    </tr>\n    <tr>\n      <th>std</th>\n      <td>13.640433</td>\n      <td>1.055500e+05</td>\n      <td>2.572720</td>\n      <td>7385.292085</td>\n      <td>402.960219</td>\n      <td>12.347429</td>\n    </tr>\n    <tr>\n      <th>min</th>\n      <td>17.000000</td>\n      <td>1.228500e+04</td>\n      <td>1.000000</td>\n      <td>0.000000</td>\n      <td>0.000000</td>\n      <td>1.000000</td>\n    </tr>\n    <tr>\n      <th>25%</th>\n      <td>28.000000</td>\n      <td>1.178270e+05</td>\n      <td>9.000000</td>\n      <td>0.000000</td>\n      <td>0.000000</td>\n      <td>40.000000</td>\n    </tr>\n    <tr>\n      <th>50%</th>\n      <td>37.000000</td>\n      <td>1.783560e+05</td>\n      <td>10.000000</td>\n      <td>0.000000</td>\n      <td>0.000000</td>\n      <td>40.000000</td>\n    </tr>\n    <tr>\n      <th>75%</th>\n      <td>48.000000</td>\n      <td>2.370510e+05</td>\n      <td>12.000000</td>\n      <td>0.000000</td>\n      <td>0.000000</td>\n      <td>45.000000</td>\n    </tr>\n    <tr>\n      <th>max</th>\n      <td>90.000000</td>\n      <td>1.484705e+06</td>\n      <td>16.000000</td>\n      <td>99999.000000</td>\n      <td>4356.000000</td>\n      <td>99.000000</td>\n    </tr>\n  </tbody>\n</table>\n</div>"
     },
     "execution_count": 10,
     "metadata": {},
     "output_type": "execute_result"
    }
   ],
   "source": [
    "# Get  statistics of numerical columns\n",
    "data.describe()"
   ],
   "metadata": {
    "collapsed": false,
    "ExecuteTime": {
     "end_time": "2023-09-21T16:11:53.215279665Z",
     "start_time": "2023-09-21T16:11:50.706147387Z"
    }
   },
   "id": "15787a1559172597"
  },
  {
   "cell_type": "code",
   "execution_count": 11,
   "outputs": [
    {
     "data": {
      "text/plain": "<=50K    75.919044\n>50K     24.080956\nName: income, dtype: float64"
     },
     "execution_count": 11,
     "metadata": {},
     "output_type": "execute_result"
    }
   ],
   "source": [
    "# Check tdistribution of income (target) variable\n",
    "100*data['income'].value_counts(normalize=True)"
   ],
   "metadata": {
    "collapsed": false,
    "ExecuteTime": {
     "end_time": "2023-09-21T16:11:53.215493509Z",
     "start_time": "2023-09-21T16:11:50.723872807Z"
    }
   },
   "id": "3dba2149ca963370"
  },
  {
   "cell_type": "markdown",
   "source": [
    "It's a case of class imabalance. "
   ],
   "metadata": {
    "collapsed": false
   },
   "id": "f486de71ec67ba7d"
  },
  {
   "cell_type": "markdown",
   "source": [
    "## EDA"
   ],
   "metadata": {
    "collapsed": false
   },
   "id": "739b40fdf5e162e"
  },
  {
   "cell_type": "code",
   "execution_count": 12,
   "outputs": [
    {
     "data": {
      "text/plain": "<Axes: xlabel='age', ylabel='Density'>"
     },
     "execution_count": 12,
     "metadata": {},
     "output_type": "execute_result"
    },
    {
     "data": {
      "text/plain": "<Figure size 640x480 with 1 Axes>",
      "image/png": "[encoded data removed]"
     },
     "metadata": {},
     "output_type": "display_data"
    }
   ],
   "source": [
    "#----distribution of age----------#\n",
    "sns.distplot(data['age'])"
   ],
   "metadata": {
    "collapsed": false,
    "ExecuteTime": {
     "end_time": "2023-09-21T16:11:53.216599729Z",
     "start_time": "2023-09-21T16:11:50.727098631Z"
    }
   },
   "id": "3562390dcf56e426"
  },
  {
   "cell_type": "markdown",
   "source": [
    "Most of the people belong to a age group of 20 to 60"
   ],
   "metadata": {
    "collapsed": false
   },
   "id": "de5e556a2ba65aaa"
  },
  {
   "cell_type": "markdown",
   "source": [
    "## workclass feature"
   ],
   "metadata": {
    "collapsed": false
   },
   "id": "cdc92ea564f2cad"
  },
  {
   "cell_type": "code",
   "execution_count": 13,
   "outputs": [
    {
     "data": {
      "text/plain": "Private             69.703019\nSelf-emp-not-inc     7.803814\nLocal-gov            6.427935\n?                    5.638647\nState-gov            3.986364\nSelf-emp-inc         3.427413\nFederal-gov          2.948312\nWithout-pay          0.042996\nNever-worked         0.021498\nName: workclass, dtype: float64"
     },
     "execution_count": 13,
     "metadata": {},
     "output_type": "execute_result"
    }
   ],
   "source": [
    "#distribution of workclass feature\n",
    "100*data['workclass'].value_counts(normalize=True)"
   ],
   "metadata": {
    "collapsed": false,
    "ExecuteTime": {
     "end_time": "2023-09-21T16:11:53.216883174Z",
     "start_time": "2023-09-21T16:11:51.182639960Z"
    }
   },
   "id": "cdbe13e87a9033a"
  },
  {
   "cell_type": "markdown",
   "source": [
    "There seem to \"?\" in the data. It might be due to some error. We need to replace such values with Null values."
   ],
   "metadata": {
    "collapsed": false
   },
   "id": "5eef4623d0a860d6"
  },
  {
   "cell_type": "code",
   "execution_count": 14,
   "outputs": [],
   "source": [
    "#replace ? with Null values\n",
    "data['workclass']=data['workclass'].replace('?',np.nan)"
   ],
   "metadata": {
    "collapsed": false,
    "ExecuteTime": {
     "end_time": "2023-09-21T16:11:53.217026565Z",
     "start_time": "2023-09-21T16:11:51.188008180Z"
    }
   },
   "id": "ffa6f06f72cc552f"
  },
  {
   "cell_type": "markdown",
   "source": [
    "we have replaced \"?\" with NaNs lets the distribution again"
   ],
   "metadata": {
    "collapsed": false
   },
   "id": "862b14454ec37bf7"
  },
  {
   "cell_type": "code",
   "execution_count": 15,
   "outputs": [
    {
     "data": {
      "text/plain": "Private             69.703019\nSelf-emp-not-inc     7.803814\nLocal-gov            6.427935\nnan                  5.638647\nState-gov            3.986364\nSelf-emp-inc         3.427413\nFederal-gov          2.948312\nWithout-pay          0.042996\nNever-worked         0.021498\nName: workclass, dtype: float64"
     },
     "execution_count": 15,
     "metadata": {},
     "output_type": "execute_result"
    }
   ],
   "source": [
    "100*data['workclass'].astype(str).value_counts(normalize=True)"
   ],
   "metadata": {
    "collapsed": false,
    "ExecuteTime": {
     "end_time": "2023-09-21T16:11:53.217234948Z",
     "start_time": "2023-09-21T16:11:51.205950060Z"
    }
   },
   "id": "d885ba305f586574"
  },
  {
   "cell_type": "markdown",
   "source": [
    "We used str function to check the presence of Null. As we ca we can see the \"?\" has been replace by NaNs. We need to impute it or drop it? If we chose to drop we will be losing around 6% of the data or we can impute with the mode. Let's impute it."
   ],
   "metadata": {
    "collapsed": false
   },
   "id": "3c820940c27b1f51"
  },
  {
   "cell_type": "code",
   "execution_count": 16,
   "outputs": [],
   "source": [
    "#-----------------replacing Null with mode-------#\n",
    "data['workclass']=data['workclass'].fillna(data['workclass'].mode()[0])"
   ],
   "metadata": {
    "collapsed": false,
    "ExecuteTime": {
     "end_time": "2023-09-21T16:11:53.217324578Z",
     "start_time": "2023-09-21T16:11:51.216114880Z"
    }
   },
   "id": "26775aeafe0f735"
  },
  {
   "cell_type": "markdown",
   "source": [
    "we have imputed the data let's check the distrbution again"
   ],
   "metadata": {
    "collapsed": false
   },
   "id": "384d15be38e6b04c"
  },
  {
   "cell_type": "code",
   "execution_count": 17,
   "outputs": [
    {
     "data": {
      "text/plain": "Private             75.341666\nSelf-emp-not-inc     7.803814\nLocal-gov            6.427935\nState-gov            3.986364\nSelf-emp-inc         3.427413\nFederal-gov          2.948312\nWithout-pay          0.042996\nNever-worked         0.021498\nName: workclass, dtype: float64"
     },
     "execution_count": 17,
     "metadata": {},
     "output_type": "execute_result"
    }
   ],
   "source": [
    "100*data['workclass'].astype(str).value_counts(normalize=True)"
   ],
   "metadata": {
    "collapsed": false,
    "ExecuteTime": {
     "end_time": "2023-09-21T16:11:53.217532831Z",
     "start_time": "2023-09-21T16:11:51.257342554Z"
    }
   },
   "id": "4d17dba0a4536a8"
  },
  {
   "cell_type": "markdown",
   "source": [
    "Seems perfect. However, there are few categories who contribution is less than 1% . Such distribution can create skewness in the data and will make model difficult to generalize. We can condense the categories to balance out the distribution. We can condense the categories into Private and Non-private"
   ],
   "metadata": {
    "collapsed": false
   },
   "id": "5d7c4028f55e8433"
  },
  {
   "cell_type": "code",
   "execution_count": 18,
   "outputs": [],
   "source": [
    "#condensing the categories  into\n",
    "data['workclass']=data['workclass'].apply(lambda x:'Non-Private' if x!='Private' else x)"
   ],
   "metadata": {
    "collapsed": false,
    "ExecuteTime": {
     "end_time": "2023-09-21T16:11:53.217641406Z",
     "start_time": "2023-09-21T16:11:51.257635899Z"
    }
   },
   "id": "315f7a5d49e9fe0d"
  },
  {
   "cell_type": "code",
   "execution_count": 19,
   "outputs": [
    {
     "data": {
      "text/plain": "Private        75.341666\nNon-Private    24.658334\nName: workclass, dtype: float64"
     },
     "execution_count": 19,
     "metadata": {},
     "output_type": "execute_result"
    }
   ],
   "source": [
    "#check distribution after condensing\n",
    "100*data['workclass'].astype(str).value_counts(normalize=True)"
   ],
   "metadata": {
    "collapsed": false,
    "ExecuteTime": {
     "end_time": "2023-09-21T16:11:53.217921505Z",
     "start_time": "2023-09-21T16:11:51.257769531Z"
    }
   },
   "id": "4f77e21c264df01a"
  },
  {
   "cell_type": "markdown",
   "source": [
    "We have condesned the workclass into Private and Non-private to reduce our skewness. "
   ],
   "metadata": {
    "collapsed": false
   },
   "id": "6330270e2be360fe"
  },
  {
   "cell_type": "markdown",
   "source": [
    "## fnlwgt feature"
   ],
   "metadata": {
    "collapsed": false
   },
   "id": "6dc78a36e0f67187"
  },
  {
   "cell_type": "code",
   "execution_count": 20,
   "outputs": [
    {
     "data": {
      "text/plain": "<Axes: xlabel='fnlwgt', ylabel='Density'>"
     },
     "execution_count": 20,
     "metadata": {},
     "output_type": "execute_result"
    },
    {
     "data": {
      "text/plain": "<Figure size 640x480 with 1 Axes>",
      "image/png": "[encoded data removed]"
     },
     "metadata": {},
     "output_type": "display_data"
    }
   ],
   "source": [
    "#fnlwgt variable. \n",
    "sns.distplot(data['fnlwgt'])"
   ],
   "metadata": {
    "collapsed": false,
    "ExecuteTime": {
     "end_time": "2023-09-21T16:11:53.218860299Z",
     "start_time": "2023-09-21T16:11:51.301384053Z"
    }
   },
   "id": "f00f1e5fff32d785"
  },
  {
   "cell_type": "markdown",
   "source": [
    "The data of this conitnuous seems a little skewed. Let's deep dive check the outliers"
   ],
   "metadata": {
    "collapsed": false
   },
   "id": "40c380c95949cfd"
  },
  {
   "cell_type": "code",
   "execution_count": 21,
   "outputs": [
    {
     "data": {
      "text/plain": "count    3.256100e+04\nmean     1.897784e+05\nstd      1.055500e+05\nmin      1.228500e+04\n25%      1.178270e+05\n50%      1.783560e+05\n75%      2.370510e+05\nmax      1.484705e+06\nName: fnlwgt, dtype: float64"
     },
     "execution_count": 21,
     "metadata": {},
     "output_type": "execute_result"
    }
   ],
   "source": [
    "#check the stats of the feature\n",
    "data['fnlwgt'].describe()"
   ],
   "metadata": {
    "collapsed": false,
    "ExecuteTime": {
     "end_time": "2023-09-21T16:11:53.219104931Z",
     "start_time": "2023-09-21T16:11:51.725270219Z"
    }
   },
   "id": "90d1209dc5325cdb"
  },
  {
   "cell_type": "markdown",
   "source": [
    "Maximum values of the feature seems to be little out of range. Let's see how many such values are there. Let's plot the box plot"
   ],
   "metadata": {
    "collapsed": false
   },
   "id": "6fad39b8d95586e6"
  },
  {
   "cell_type": "code",
   "execution_count": 22,
   "outputs": [
    {
     "data": {
      "text/plain": "<Axes: >"
     },
     "execution_count": 22,
     "metadata": {},
     "output_type": "execute_result"
    },
    {
     "data": {
      "text/plain": "<Figure size 640x480 with 1 Axes>",
      "image/png": "[encoded data removed]"
     },
     "metadata": {},
     "output_type": "display_data"
    }
   ],
   "source": [
    "#----box plot----#\n",
    "sns.boxplot(data['fnlwgt'])"
   ],
   "metadata": {
    "collapsed": false,
    "ExecuteTime": {
     "end_time": "2023-09-21T16:11:53.219389528Z",
     "start_time": "2023-09-21T16:11:51.725496145Z"
    }
   },
   "id": "41e642765d060f73"
  },
  {
   "cell_type": "markdown",
   "source": [
    "Only one variable is lying in e+06 range. We can remove that value or we can use upto 99 percentile of feature"
   ],
   "metadata": {
    "collapsed": false
   },
   "id": "a7a481df02097598"
  },
  {
   "cell_type": "code",
   "execution_count": 23,
   "outputs": [
    {
     "data": {
      "text/plain": "510072.0"
     },
     "execution_count": 23,
     "metadata": {},
     "output_type": "execute_result"
    }
   ],
   "source": [
    "#check 99 percentile of the feature\n",
    "data['fnlwgt'].quantile(0.99)"
   ],
   "metadata": {
    "collapsed": false,
    "ExecuteTime": {
     "end_time": "2023-09-21T16:11:53.219629051Z",
     "start_time": "2023-09-21T16:11:51.791589558Z"
    }
   },
   "id": "541eb9f81bde27b3"
  },
  {
   "cell_type": "markdown",
   "source": [
    "We can use the values as we will also retain the 99% of the data. We are removing top 1% of the data"
   ],
   "metadata": {
    "collapsed": false
   },
   "id": "2b780d502c13b343"
  },
  {
   "cell_type": "code",
   "execution_count": 24,
   "outputs": [],
   "source": [
    "#---removing the max value from the feature-------#\n",
    "data=data[data['fnlwgt']<=510072.0]"
   ],
   "metadata": {
    "collapsed": false,
    "ExecuteTime": {
     "end_time": "2023-09-21T16:11:53.219718550Z",
     "start_time": "2023-09-21T16:11:51.833288612Z"
    }
   },
   "id": "3f21ea4198e6f020"
  },
  {
   "cell_type": "code",
   "execution_count": 25,
   "outputs": [
    {
     "data": {
      "text/plain": "count     32236.00000\nmean     185289.50760\nstd       94900.04477\nmin       12285.00000\n25%      117500.50000\n50%      177473.50000\n75%      234634.75000\nmax      510072.00000\nName: fnlwgt, dtype: float64"
     },
     "execution_count": 25,
     "metadata": {},
     "output_type": "execute_result"
    }
   ],
   "source": [
    "data['fnlwgt'].describe()"
   ],
   "metadata": {
    "collapsed": false,
    "ExecuteTime": {
     "end_time": "2023-09-21T16:11:53.219967720Z",
     "start_time": "2023-09-21T16:11:51.833487097Z"
    }
   },
   "id": "fbda119a5cc024c1"
  },
  {
   "cell_type": "markdown",
   "source": [
    "Let's check the distribution now"
   ],
   "metadata": {
    "collapsed": false
   },
   "id": "eb4c8f3d3cb127b6"
  },
  {
   "cell_type": "code",
   "execution_count": 26,
   "outputs": [
    {
     "data": {
      "text/plain": "<Axes: xlabel='fnlwgt', ylabel='Density'>"
     },
     "execution_count": 26,
     "metadata": {},
     "output_type": "execute_result"
    },
    {
     "data": {
      "text/plain": "<Figure size 640x480 with 1 Axes>",
      "image/png": "[encoded data removed]"
     },
     "metadata": {},
     "output_type": "display_data"
    }
   ],
   "source": [
    "sns.distplot(data['fnlwgt'])"
   ],
   "metadata": {
    "collapsed": false,
    "ExecuteTime": {
     "end_time": "2023-09-21T16:11:53.220434883Z",
     "start_time": "2023-09-21T16:11:51.833689479Z"
    }
   },
   "id": "8b1f9fbf3b82e0e"
  },
  {
   "cell_type": "markdown",
   "source": [
    "Now distribution is somewhat balanced now"
   ],
   "metadata": {
    "collapsed": false
   },
   "id": "90c3a4903df2d207"
  },
  {
   "cell_type": "markdown",
   "source": [
    "## Education feature"
   ],
   "metadata": {
    "collapsed": false
   },
   "id": "a06e435c9200f50c"
  },
  {
   "cell_type": "code",
   "execution_count": 27,
   "outputs": [
    {
     "data": {
      "text/plain": "HS-grad         32.249659\nSome-college    22.403524\nBachelors       16.431939\nMasters          5.292220\nAssoc-voc        4.265418\n11th             3.607768\nAssoc-acdm       3.297556\n10th             2.850850\n7th-8th          1.988460\nProf-school      1.780618\n9th              1.569674\n12th             1.312198\nDoctorate        1.274972\n5th-6th          1.014394\n1st-4th          0.508748\nPreschool        0.152004\nName: education, dtype: float64"
     },
     "execution_count": 27,
     "metadata": {},
     "output_type": "execute_result"
    }
   ],
   "source": [
    "#distribution of education feature\n",
    "100*data['education'].value_counts(normalize=True)"
   ],
   "metadata": {
    "collapsed": false,
    "ExecuteTime": {
     "end_time": "2023-09-21T16:11:53.220668254Z",
     "start_time": "2023-09-21T16:11:52.105272223Z"
    }
   },
   "id": "c2f1f0af5d5a0cca"
  },
  {
   "cell_type": "code",
   "execution_count": 28,
   "outputs": [
    {
     "data": {
      "text/plain": "Index(['HS-grad', 'Some-college', 'Bachelors', 'Masters', 'Assoc-voc', '11th',\n       'Assoc-acdm', '10th', '7th-8th', 'Prof-school', '9th', '12th',\n       'Doctorate', '5th-6th', '1st-4th', 'Preschool'],\n      dtype='object')"
     },
     "execution_count": 28,
     "metadata": {},
     "output_type": "execute_result"
    }
   ],
   "source": [
    "data['education'].value_counts(normalize=True).keys()"
   ],
   "metadata": {
    "collapsed": false,
    "ExecuteTime": {
     "end_time": "2023-09-21T16:11:53.220881426Z",
     "start_time": "2023-09-21T16:11:52.105526574Z"
    }
   },
   "id": "c7a4504be5e211e9"
  },
  {
   "cell_type": "markdown",
   "source": [
    "The distribution isn't uniform here. Few categories in the feature have even less than 5% of distribution. This won't do good for out model. Let's see if we can condense the categories. We can condense the categories having less than 5% contribution into category \"other-education\""
   ],
   "metadata": {
    "collapsed": false
   },
   "id": "2dde3d2d7690c8d6"
  },
  {
   "cell_type": "code",
   "execution_count": 29,
   "outputs": [],
   "source": [
    "data['education']=data['education'].apply(lambda x:'other-education' if x in ['Assoc-voc', '11th', 'Assoc-acdm', '10th', '7th-8th', 'Prof-school', '9th', '12th',\n",
    "                                                                              'Doctorate', '5th-6th', '1st-4th', 'Preschool'] else x)"
   ],
   "metadata": {
    "collapsed": false,
    "ExecuteTime": {
     "end_time": "2023-09-21T16:11:53.220981535Z",
     "start_time": "2023-09-21T16:11:52.105694471Z"
    }
   },
   "id": "eb1fe610828be47f"
  },
  {
   "cell_type": "code",
   "execution_count": 30,
   "outputs": [
    {
     "data": {
      "text/plain": "HS-grad            32.249659\nother-education    23.622658\nSome-college       22.403524\nBachelors          16.431939\nMasters             5.292220\nName: education, dtype: float64"
     },
     "execution_count": 30,
     "metadata": {},
     "output_type": "execute_result"
    }
   ],
   "source": [
    "100*data['education'].value_counts(normalize=True)"
   ],
   "metadata": {
    "collapsed": false,
    "ExecuteTime": {
     "end_time": "2023-09-21T16:11:53.221255272Z",
     "start_time": "2023-09-21T16:11:52.105818645Z"
    }
   },
   "id": "e68c576f1f3442f5"
  },
  {
   "cell_type": "markdown",
   "source": [
    "## Education Num"
   ],
   "metadata": {
    "collapsed": false
   },
   "id": "5c10bc99c991ec53"
  },
  {
   "cell_type": "code",
   "execution_count": 31,
   "outputs": [
    {
     "data": {
      "text/plain": "<Axes: xlabel='education-num', ylabel='Density'>"
     },
     "execution_count": 31,
     "metadata": {},
     "output_type": "execute_result"
    },
    {
     "data": {
      "text/plain": "<Figure size 640x480 with 1 Axes>",
      "image/png": "[encoded data removed]"
     },
     "metadata": {},
     "output_type": "display_data"
    }
   ],
   "source": [
    "#distribution of the feature education-num\n",
    "sns.distplot(data['education-num'])"
   ],
   "metadata": {
    "collapsed": false,
    "ExecuteTime": {
     "end_time": "2023-09-21T16:11:53.221599683Z",
     "start_time": "2023-09-21T16:11:52.111791808Z"
    }
   },
   "id": "ecaac51180488524"
  },
  {
   "cell_type": "code",
   "execution_count": 32,
   "outputs": [
    {
     "data": {
      "text/plain": "count    32236.000000\nmean        10.084595\nstd          2.570455\nmin          1.000000\n25%          9.000000\n50%         10.000000\n75%         12.000000\nmax         16.000000\nName: education-num, dtype: float64"
     },
     "execution_count": 32,
     "metadata": {},
     "output_type": "execute_result"
    }
   ],
   "source": [
    "#basic stats of the feature\n",
    "data['education-num'].describe()"
   ],
   "metadata": {
    "collapsed": false,
    "ExecuteTime": {
     "end_time": "2023-09-21T16:11:53.221864884Z",
     "start_time": "2023-09-21T16:11:52.410583535Z"
    }
   },
   "id": "5884a8a23e7e6079"
  },
  {
   "cell_type": "markdown",
   "source": [
    "The distribution seems okay and can be used as continuous variable. "
   ],
   "metadata": {
    "collapsed": false
   },
   "id": "2849e8ca64754790"
  },
  {
   "cell_type": "markdown",
   "source": [
    "## Marital status"
   ],
   "metadata": {
    "collapsed": false
   },
   "id": "906fae06b3713fe2"
  },
  {
   "cell_type": "code",
   "execution_count": 33,
   "outputs": [
    {
     "data": {
      "text/plain": "Married-civ-spouse       46.032386\nNever-married            32.777019\nDivorced                 13.661745\nSeparated                 3.123837\nWidowed                   3.058692\nMarried-spouse-absent     1.278074\nMarried-AF-spouse         0.068247\nName: marital-status, dtype: float64"
     },
     "execution_count": 33,
     "metadata": {},
     "output_type": "execute_result"
    }
   ],
   "source": [
    "#distribution of the marital-status feature\n",
    "100*data['marital-status'].value_counts(normalize=True)"
   ],
   "metadata": {
    "collapsed": false,
    "ExecuteTime": {
     "end_time": "2023-09-21T16:11:53.222153940Z",
     "start_time": "2023-09-21T16:11:52.453381544Z"
    }
   },
   "id": "6a45c7d91797f07a"
  },
  {
   "cell_type": "markdown",
   "source": [
    "The distribution here looks un even and we can furthure condense it to balance. We can condense it into 'Married-civ-spouse', 'Never-married', 'Divorced' and others"
   ],
   "metadata": {
    "collapsed": false
   },
   "id": "ed30eab4e4c5efb9"
  },
  {
   "cell_type": "code",
   "execution_count": 34,
   "outputs": [],
   "source": [
    "#condensing into the discussed categories\n",
    "data['marital-status']=data['marital-status'].apply(lambda x:'others' if x in ['Separated',\n",
    "                                                                               'Widowed', 'Married-spouse-absent', 'Married-AF-spouse'] else x)"
   ],
   "metadata": {
    "collapsed": false,
    "ExecuteTime": {
     "end_time": "2023-09-21T16:11:53.222251845Z",
     "start_time": "2023-09-21T16:11:52.453624303Z"
    }
   },
   "id": "ade9574fd3aff256"
  },
  {
   "cell_type": "code",
   "execution_count": 35,
   "outputs": [
    {
     "data": {
      "text/plain": "Married-civ-spouse    46.032386\nNever-married         32.777019\nDivorced              13.661745\nothers                 7.528850\nName: marital-status, dtype: float64"
     },
     "execution_count": 35,
     "metadata": {},
     "output_type": "execute_result"
    }
   ],
   "source": [
    "100*data['marital-status'].value_counts(normalize=True)"
   ],
   "metadata": {
    "collapsed": false,
    "ExecuteTime": {
     "end_time": "2023-09-21T16:11:53.222506386Z",
     "start_time": "2023-09-21T16:11:52.453764888Z"
    }
   },
   "id": "bdaecbeace245fa8"
  },
  {
   "cell_type": "markdown",
   "source": [
    "Now, the distribution looks somewhat even"
   ],
   "metadata": {
    "collapsed": false
   },
   "id": "ccd4b3ea905a44e3"
  },
  {
   "cell_type": "markdown",
   "source": [
    "## Occupation"
   ],
   "metadata": {
    "collapsed": false
   },
   "id": "d09dac3535ed4d97"
  },
  {
   "cell_type": "code",
   "execution_count": 36,
   "outputs": [
    {
     "data": {
      "text/plain": "Prof-specialty       12.755925\nCraft-repair         12.563593\nExec-managerial      12.504653\nAdm-clerical         11.558506\nSales                11.235885\nOther-service        10.112917\nMachine-op-inspct     6.163916\n?                     5.667577\nTransport-moving      4.885842\nHandlers-cleaners     4.184762\nFarming-fishing       3.046284\nTech-support          2.844646\nProtective-serv       1.991562\nPriv-house-serv       0.456012\nArmed-Forces          0.027919\nName: occupation, dtype: float64"
     },
     "execution_count": 36,
     "metadata": {},
     "output_type": "execute_result"
    }
   ],
   "source": [
    "#distribution of occupation\n",
    "100*data['occupation'].value_counts(normalize=True)"
   ],
   "metadata": {
    "collapsed": false,
    "ExecuteTime": {
     "end_time": "2023-09-21T16:11:53.222877026Z",
     "start_time": "2023-09-21T16:11:52.453926263Z"
    }
   },
   "id": "d05e6174da1a197e"
  },
  {
   "cell_type": "markdown",
   "source": [
    "We need to replace \"?\" with NaN. "
   ],
   "metadata": {
    "collapsed": false
   },
   "id": "e161fc7b5c24fed0"
  },
  {
   "cell_type": "code",
   "execution_count": 37,
   "outputs": [],
   "source": [
    "#replacing ? with NaN\n",
    "data['occupation']=data['occupation'].replace(\"?\",np.nan)"
   ],
   "metadata": {
    "collapsed": false,
    "ExecuteTime": {
     "end_time": "2023-09-21T16:11:53.223032730Z",
     "start_time": "2023-09-21T16:11:52.497272999Z"
    }
   },
   "id": "e6a20de34b57cc15"
  },
  {
   "cell_type": "markdown",
   "source": [
    "We need to impute NaN furthure. We can impute with Mode."
   ],
   "metadata": {
    "collapsed": false
   },
   "id": "6cfe11af89e44c55"
  },
  {
   "cell_type": "code",
   "execution_count": 38,
   "outputs": [],
   "source": [
    "#replacing NaN with the mode of the feature\n",
    "data['occupation']=data['occupation'].fillna(data['occupation'].mode()[0])"
   ],
   "metadata": {
    "collapsed": false,
    "ExecuteTime": {
     "end_time": "2023-09-21T16:11:53.223178225Z",
     "start_time": "2023-09-21T16:11:52.497573647Z"
    }
   },
   "id": "d9b7b2262ad09e46"
  },
  {
   "cell_type": "code",
   "execution_count": 39,
   "outputs": [
    {
     "data": {
      "text/plain": "Prof-specialty       18.423502\nCraft-repair         12.563593\nExec-managerial      12.504653\nAdm-clerical         11.558506\nSales                11.235885\nOther-service        10.112917\nMachine-op-inspct     6.163916\nTransport-moving      4.885842\nHandlers-cleaners     4.184762\nFarming-fishing       3.046284\nTech-support          2.844646\nProtective-serv       1.991562\nPriv-house-serv       0.456012\nArmed-Forces          0.027919\nName: occupation, dtype: float64"
     },
     "execution_count": 39,
     "metadata": {},
     "output_type": "execute_result"
    }
   ],
   "source": [
    "#distribution after imputation\n",
    "100*data['occupation'].value_counts(normalize=True)"
   ],
   "metadata": {
    "collapsed": false,
    "ExecuteTime": {
     "end_time": "2023-09-21T16:11:53.223627684Z",
     "start_time": "2023-09-21T16:11:52.497740672Z"
    }
   },
   "id": "88689c15913ec50e"
  },
  {
   "cell_type": "markdown",
   "source": [
    "We can futhure condense the category into already exieting category i.e.Other-service."
   ],
   "metadata": {
    "collapsed": false
   },
   "id": "83ff84b6dffd114c"
  },
  {
   "cell_type": "code",
   "execution_count": 40,
   "outputs": [],
   "source": [
    "#condensing the categories\n",
    "data['occupation']=data['occupation'].apply(lambda x:'Other-service' if x in ['Machine-op-inspct', 'Transport-moving',\n",
    "                                                                              'Handlers-cleaners', 'Farming-fishing','Tech-support',\n",
    "                                                                              'Protective-serv', 'Priv-house-serv', 'Armed-Forces'] else x)"
   ],
   "metadata": {
    "collapsed": false,
    "ExecuteTime": {
     "end_time": "2023-09-21T16:11:53.223783207Z",
     "start_time": "2023-09-21T16:11:52.497947663Z"
    }
   },
   "id": "97730d204fde4013"
  },
  {
   "cell_type": "code",
   "execution_count": 41,
   "outputs": [
    {
     "data": {
      "text/plain": "Other-service      33.713860\nProf-specialty     18.423502\nCraft-repair       12.563593\nExec-managerial    12.504653\nAdm-clerical       11.558506\nSales              11.235885\nName: occupation, dtype: float64"
     },
     "execution_count": 41,
     "metadata": {},
     "output_type": "execute_result"
    }
   ],
   "source": [
    "#distrbution after condensing\n",
    "100*data['occupation'].value_counts(normalize=True)"
   ],
   "metadata": {
    "collapsed": false,
    "ExecuteTime": {
     "end_time": "2023-09-21T16:11:53.224028290Z",
     "start_time": "2023-09-21T16:11:52.498121342Z"
    }
   },
   "id": "5b6fa9cb18c04c8e"
  },
  {
   "cell_type": "markdown",
   "source": [
    "## Relationship"
   ],
   "metadata": {
    "collapsed": false
   },
   "id": "b411a71aafeaa5b2"
  },
  {
   "cell_type": "code",
   "execution_count": 42,
   "outputs": [
    {
     "data": {
      "text/plain": "Husband           40.544733\nNot-in-family     25.511850\nOwn-child         15.554039\nUnmarried         10.559623\nWife               4.823799\nOther-relative     3.005956\nName: relationship, dtype: float64"
     },
     "execution_count": 42,
     "metadata": {},
     "output_type": "execute_result"
    }
   ],
   "source": [
    "#distribution of relationship feature\n",
    "100*data['relationship'].value_counts(normalize=True)"
   ],
   "metadata": {
    "collapsed": false,
    "ExecuteTime": {
     "end_time": "2023-09-21T16:11:53.225118650Z",
     "start_time": "2023-09-21T16:11:52.498399537Z"
    }
   },
   "id": "8034e13392ad5c32"
  },
  {
   "cell_type": "markdown",
   "source": [
    "We can furthure condense the categories"
   ],
   "metadata": {
    "collapsed": false
   },
   "id": "fbbe0c051f79619a"
  },
  {
   "cell_type": "code",
   "execution_count": 43,
   "outputs": [],
   "source": [
    "#condensing the categories\n",
    "data['relationship']=data['relationship'].apply(lambda x: 'others' if x in ['Wife',\n",
    "                                                                            'Other-relative'] else x)"
   ],
   "metadata": {
    "collapsed": false,
    "ExecuteTime": {
     "end_time": "2023-09-21T16:11:53.225253695Z",
     "start_time": "2023-09-21T16:11:52.506018358Z"
    }
   },
   "id": "bad3c2af8b2b5d6e"
  },
  {
   "cell_type": "code",
   "execution_count": 44,
   "outputs": [
    {
     "data": {
      "text/plain": "Husband          40.544733\nNot-in-family    25.511850\nOwn-child        15.554039\nUnmarried        10.559623\nothers            7.829756\nName: relationship, dtype: float64"
     },
     "execution_count": 44,
     "metadata": {},
     "output_type": "execute_result"
    }
   ],
   "source": [
    "#distribution after condensing\n",
    "100*data['relationship'].value_counts(normalize=True)"
   ],
   "metadata": {
    "collapsed": false,
    "ExecuteTime": {
     "end_time": "2023-09-21T16:11:53.225473701Z",
     "start_time": "2023-09-21T16:11:52.553326276Z"
    }
   },
   "id": "bd71a3bb6f02db28"
  },
  {
   "cell_type": "markdown",
   "source": [
    "The distribution looks better now"
   ],
   "metadata": {
    "collapsed": false
   },
   "id": "c02329b48f4d6246"
  },
  {
   "cell_type": "markdown",
   "source": [
    "## race"
   ],
   "metadata": {
    "collapsed": false
   },
   "id": "728be35cd3232e50"
  },
  {
   "cell_type": "code",
   "execution_count": 45,
   "outputs": [
    {
     "data": {
      "text/plain": "White                 85.572031\nBlack                  9.399429\nAsian-Pac-Islander     3.223105\nAmer-Indian-Eskimo     0.964760\nOther                  0.840675\nName: race, dtype: float64"
     },
     "execution_count": 45,
     "metadata": {},
     "output_type": "execute_result"
    }
   ],
   "source": [
    "#distribution of race feature\n",
    "100*data['race'].value_counts(normalize=True)"
   ],
   "metadata": {
    "collapsed": false,
    "ExecuteTime": {
     "end_time": "2023-09-21T16:11:53.225714706Z",
     "start_time": "2023-09-21T16:11:52.553545410Z"
    }
   },
   "id": "cccad6aaf704c13c"
  },
  {
   "cell_type": "markdown",
   "source": [
    "We need to condense the categories as this is very imbalanced one and can cause overfitting issues in the model. We will condense it into two categories White and Non-white"
   ],
   "metadata": {
    "collapsed": false
   },
   "id": "355eff2721f91537"
  },
  {
   "cell_type": "code",
   "execution_count": 46,
   "outputs": [],
   "source": [
    "#condensing the categories \n",
    "data['race']=data['race'].apply(lambda x:'Non-White' if x!='White' else x)"
   ],
   "metadata": {
    "collapsed": false,
    "ExecuteTime": {
     "end_time": "2023-09-21T16:11:53.225813142Z",
     "start_time": "2023-09-21T16:11:52.553771147Z"
    }
   },
   "id": "e2b5698df22fad02"
  },
  {
   "cell_type": "code",
   "execution_count": 47,
   "outputs": [
    {
     "data": {
      "text/plain": "White        85.572031\nNon-White    14.427969\nName: race, dtype: float64"
     },
     "execution_count": 47,
     "metadata": {},
     "output_type": "execute_result"
    }
   ],
   "source": [
    "#distribution after condensing\n",
    "100*data['race'].value_counts(normalize=True)"
   ],
   "metadata": {
    "collapsed": false,
    "ExecuteTime": {
     "end_time": "2023-09-21T16:11:53.226106696Z",
     "start_time": "2023-09-21T16:11:52.553879211Z"
    }
   },
   "id": "7b2dd1a82d57e3e2"
  },
  {
   "cell_type": "markdown",
   "source": [
    "## Sex"
   ],
   "metadata": {
    "collapsed": false
   },
   "id": "3e49835eecc7755f"
  },
  {
   "cell_type": "code",
   "execution_count": 48,
   "outputs": [
    {
     "data": {
      "text/plain": "Male      66.891053\nFemale    33.108947\nName: sex, dtype: float64"
     },
     "execution_count": 48,
     "metadata": {},
     "output_type": "execute_result"
    }
   ],
   "source": [
    "#distribution of sex feature\n",
    "100*data['sex'].value_counts(normalize=True)"
   ],
   "metadata": {
    "collapsed": false,
    "ExecuteTime": {
     "end_time": "2023-09-21T16:11:53.226344926Z",
     "start_time": "2023-09-21T16:11:52.553997544Z"
    }
   },
   "id": "37a556c799e98d35"
  },
  {
   "cell_type": "markdown",
   "source": [
    "The distribution looks fine"
   ],
   "metadata": {
    "collapsed": false
   },
   "id": "81f81ec00710d034"
  },
  {
   "cell_type": "markdown",
   "source": [
    "## native country"
   ],
   "metadata": {
    "collapsed": false
   },
   "id": "8235238cc70526c0"
  },
  {
   "cell_type": "code",
   "execution_count": 49,
   "outputs": [
    {
     "data": {
      "text/plain": "United-States                 89.654424\nMexico                         1.923316\n?                              1.786822\nPhilippines                    0.611118\nGermany                        0.421889\nCanada                         0.375357\nPuerto-Rico                    0.347438\nIndia                          0.310212\nEl-Salvador                    0.307110\nCuba                           0.294702\nEngland                        0.279191\nJamaica                        0.251272\nSouth                          0.248170\nChina                          0.232659\nItaly                          0.223353\nDominican-Republic             0.217149\nVietnam                        0.207842\nGuatemala                      0.189229\nJapan                          0.186127\nPoland                         0.186127\nColumbia                       0.176821\nTaiwan                         0.158208\nHaiti                          0.136493\nIran                           0.133391\nPortugal                       0.114779\nPeru                           0.093064\nNicaragua                      0.093064\nFrance                         0.089962\nGreece                         0.089962\nEcuador                        0.086859\nIreland                        0.074451\nHong                           0.062042\nCambodia                       0.058940\nLaos                           0.055838\nThailand                       0.055838\nTrinadad&Tobago                0.055838\nYugoslavia                     0.046532\nOutlying-US(Guam-USVI-etc)     0.043430\nHonduras                       0.040328\nHungary                        0.040328\nScotland                       0.037225\nHoland-Netherlands             0.003102\nName: native-country, dtype: float64"
     },
     "execution_count": 49,
     "metadata": {},
     "output_type": "execute_result"
    }
   ],
   "source": [
    "#distribution of native-country feature\n",
    "100*data['native-country'].value_counts(normalize=True)"
   ],
   "metadata": {
    "collapsed": false,
    "ExecuteTime": {
     "end_time": "2023-09-21T16:11:53.226646576Z",
     "start_time": "2023-09-21T16:11:52.597396509Z"
    }
   },
   "id": "b7e26498e0eed3ea"
  },
  {
   "cell_type": "markdown",
   "source": [
    "Most of the people in th data belong to US. We can condense the category into US and other-country. We also have \"?\" in the data. We need to replace the value with NaN and impute it."
   ],
   "metadata": {
    "collapsed": false
   },
   "id": "8ac945a39f22e5b8"
  },
  {
   "cell_type": "code",
   "execution_count": 50,
   "outputs": [],
   "source": [
    "#replacing ? with NaN\n",
    "data['native-country']=data['native-country'].replace(\"?\",np.nan)\n",
    "\n",
    "#imputing Null with mode of the feature\n",
    "data['native-country']=data['native-country'].fillna(data['native-country'].mode()[0])"
   ],
   "metadata": {
    "collapsed": false,
    "ExecuteTime": {
     "end_time": "2023-09-21T16:11:53.226759279Z",
     "start_time": "2023-09-21T16:11:52.597683852Z"
    }
   },
   "id": "ff4f2325d935264"
  },
  {
   "cell_type": "code",
   "execution_count": 51,
   "outputs": [
    {
     "data": {
      "text/plain": "United-States                 91.441246\nMexico                         1.923316\nPhilippines                    0.611118\nGermany                        0.421889\nCanada                         0.375357\nPuerto-Rico                    0.347438\nIndia                          0.310212\nEl-Salvador                    0.307110\nCuba                           0.294702\nEngland                        0.279191\nJamaica                        0.251272\nSouth                          0.248170\nChina                          0.232659\nItaly                          0.223353\nDominican-Republic             0.217149\nVietnam                        0.207842\nGuatemala                      0.189229\nJapan                          0.186127\nPoland                         0.186127\nColumbia                       0.176821\nTaiwan                         0.158208\nHaiti                          0.136493\nIran                           0.133391\nPortugal                       0.114779\nPeru                           0.093064\nNicaragua                      0.093064\nFrance                         0.089962\nGreece                         0.089962\nEcuador                        0.086859\nIreland                        0.074451\nHong                           0.062042\nCambodia                       0.058940\nLaos                           0.055838\nThailand                       0.055838\nTrinadad&Tobago                0.055838\nYugoslavia                     0.046532\nOutlying-US(Guam-USVI-etc)     0.043430\nHonduras                       0.040328\nHungary                        0.040328\nScotland                       0.037225\nHoland-Netherlands             0.003102\nName: native-country, dtype: float64"
     },
     "execution_count": 51,
     "metadata": {},
     "output_type": "execute_result"
    }
   ],
   "source": [
    "#distribution after imputation\n",
    "100*data['native-country'].value_counts(normalize=True)"
   ],
   "metadata": {
    "collapsed": false,
    "ExecuteTime": {
     "end_time": "2023-09-21T16:11:53.227071909Z",
     "start_time": "2023-09-21T16:11:52.597930267Z"
    }
   },
   "id": "459aaeaa90530653"
  },
  {
   "cell_type": "code",
   "execution_count": 52,
   "outputs": [],
   "source": [
    "#condense the category into us and other-country\n",
    "data['native-country']=data['native-country'].apply(lambda x:'other-countries' if x!='United-States' else x)"
   ],
   "metadata": {
    "collapsed": false,
    "ExecuteTime": {
     "end_time": "2023-09-21T16:11:53.227165687Z",
     "start_time": "2023-09-21T16:11:52.598272955Z"
    }
   },
   "id": "dcaf02dab97d696f"
  },
  {
   "cell_type": "code",
   "execution_count": 53,
   "outputs": [
    {
     "data": {
      "text/plain": "United-States      91.441246\nother-countries     8.558754\nName: native-country, dtype: float64"
     },
     "execution_count": 53,
     "metadata": {},
     "output_type": "execute_result"
    }
   ],
   "source": [
    "#distribution after condensing\n",
    "100*data['native-country'].value_counts(normalize=True)"
   ],
   "metadata": {
    "collapsed": false,
    "ExecuteTime": {
     "end_time": "2023-09-21T16:11:53.227378969Z",
     "start_time": "2023-09-21T16:11:52.598764052Z"
    }
   },
   "id": "2ff643f99e6df90b"
  },
  {
   "cell_type": "markdown",
   "source": [
    "The distribution looks great now. But since this feature has 91% people from US only this will create imabalance problem in data and we won't be considering this feature for our model building as the distribution is highly skewed"
   ],
   "metadata": {
    "collapsed": false
   },
   "id": "c4270d0b0a8f6595"
  },
  {
   "cell_type": "code",
   "execution_count": 54,
   "outputs": [],
   "source": [
    "#drop native country column\n",
    "data.drop('native-country',axis=1,inplace=True)"
   ],
   "metadata": {
    "collapsed": false,
    "ExecuteTime": {
     "end_time": "2023-09-21T16:11:53.227460513Z",
     "start_time": "2023-09-21T16:11:52.599035525Z"
    }
   },
   "id": "79438513f35413c5"
  },
  {
   "cell_type": "markdown",
   "source": [
    "## hours per week"
   ],
   "metadata": {
    "collapsed": false
   },
   "id": "7a05b14de9f26ff1"
  },
  {
   "cell_type": "code",
   "execution_count": 55,
   "outputs": [
    {
     "data": {
      "text/plain": "<Figure size 640x480 with 2 Axes>",
      "image/png": "[encoded data removed]"
     },
     "metadata": {},
     "output_type": "display_data"
    }
   ],
   "source": [
    "#plot distribution and box plots\n",
    "fig,ax=plt.subplots(1,2)\n",
    "sns.distplot(data['hours-per-week'],ax=ax[0])\n",
    "sns.boxplot(data['hours-per-week'],ax=ax[1])\n",
    "plt.tight_layout()"
   ],
   "metadata": {
    "collapsed": false,
    "ExecuteTime": {
     "end_time": "2023-09-21T16:11:53.227792270Z",
     "start_time": "2023-09-21T16:11:52.641376842Z"
    }
   },
   "id": "71b63d9916433db8"
  },
  {
   "cell_type": "markdown",
   "source": [
    "The distribution looks closer to gaussian. Let's see if we have any outliers"
   ],
   "metadata": {
    "collapsed": false
   },
   "id": "21997b4918f5d092"
  },
  {
   "cell_type": "code",
   "execution_count": 56,
   "outputs": [
    {
     "data": {
      "text/plain": "count    32236.000000\nmean        40.442921\nstd         12.355288\nmin          1.000000\n25%         40.000000\n50%         40.000000\n75%         45.000000\nmax         99.000000\nName: hours-per-week, dtype: float64"
     },
     "execution_count": 56,
     "metadata": {},
     "output_type": "execute_result"
    }
   ],
   "source": [
    "data['hours-per-week'].describe()"
   ],
   "metadata": {
    "collapsed": false,
    "ExecuteTime": {
     "end_time": "2023-09-21T16:11:53.228079152Z",
     "start_time": "2023-09-21T16:11:53.021262875Z"
    }
   },
   "id": "dafae4c7a846ed0d"
  },
  {
   "cell_type": "markdown",
   "source": [
    "Distribution looks good and we are good to go"
   ],
   "metadata": {
    "collapsed": false
   },
   "id": "bef334dcf8568f4e"
  },
  {
   "cell_type": "code",
   "execution_count": 57,
   "outputs": [],
   "source": [
    "#Dropping capital-gain capital-loss as most of the values are zero.\n",
    "data.drop(['capital-gain','capital-loss'],axis=1,inplace=True)"
   ],
   "metadata": {
    "collapsed": false,
    "ExecuteTime": {
     "end_time": "2023-09-21T16:11:53.228172649Z",
     "start_time": "2023-09-21T16:11:53.026318614Z"
    }
   },
   "id": "62242f2baf33fce4"
  },
  {
   "cell_type": "markdown",
   "source": [
    "## Preprocessing"
   ],
   "metadata": {
    "collapsed": false
   },
   "id": "c3114047cb72fdac"
  },
  {
   "cell_type": "markdown",
   "source": [
    "**In this section we will do preprocessing of the data. We will first split the data into train and test. We will use 80-20 split**"
   ],
   "metadata": {
    "collapsed": false
   },
   "id": "c0af9d8b470fa30b"
  },
  {
   "cell_type": "code",
   "execution_count": 58,
   "outputs": [],
   "source": [
    "#lets encode target variable to 0 and 1\n",
    "data['income']=data['income'].map({'<=50K':0,\">50K\":1})"
   ],
   "metadata": {
    "collapsed": false,
    "ExecuteTime": {
     "end_time": "2023-09-21T16:11:53.228250486Z",
     "start_time": "2023-09-21T16:11:53.036581540Z"
    }
   },
   "id": "66ecb6a11cd98a16"
  },
  {
   "cell_type": "code",
   "execution_count": 59,
   "outputs": [],
   "source": [
    "#declare dependent and independent variables\n",
    "X=data.drop('income',axis=1)\n",
    "y=data['income']"
   ],
   "metadata": {
    "collapsed": false,
    "ExecuteTime": {
     "end_time": "2023-09-21T16:11:53.228348160Z",
     "start_time": "2023-09-21T16:11:53.043283038Z"
    }
   },
   "id": "9a4eb91c4146ef09"
  },
  {
   "cell_type": "code",
   "execution_count": 60,
   "outputs": [],
   "source": [
    "#split the data into train and test\n",
    "x_train,x_test,y_train,y_test=train_test_split(X,y,test_size=0.2,stratify=y,random_state=42)"
   ],
   "metadata": {
    "collapsed": false,
    "ExecuteTime": {
     "end_time": "2023-09-21T16:11:53.228449271Z",
     "start_time": "2023-09-21T16:11:53.085285614Z"
    }
   },
   "id": "6aad222f2c61e497"
  },
  {
   "cell_type": "code",
   "execution_count": 61,
   "outputs": [
    {
     "data": {
      "text/plain": "       age    workclass  fnlwgt  education  education-num      marital-status  \\\n5381    26      Private   58065  Bachelors             13       Never-married   \n17182   57      Private  206343    HS-grad              9              others   \n16517   31      Private  198069    HS-grad              9       Never-married   \n2117    45  Non-Private  135776    Masters             14            Divorced   \n2579    47      Private  188330    HS-grad              9  Married-civ-spouse   \n\n           occupation   relationship   race     sex  hours-per-week  \n5381     Adm-clerical  Not-in-family  White  Female              20  \n17182   Other-service  Not-in-family  White    Male              40  \n16517   Other-service      Own-child  White    Male              24  \n2117   Prof-specialty  Not-in-family  White  Female              30  \n2579    Other-service        Husband  White    Male              25  ",
      "text/html": "<div>\n<style scoped>\n    .dataframe tbody tr th:only-of-type {\n        vertical-align: middle;\n    }\n\n    .dataframe tbody tr th {\n        vertical-align: top;\n    }\n\n    .dataframe thead th {\n        text-align: right;\n    }\n</style>\n<table border=\"1\" class=\"dataframe\">\n  <thead>\n    <tr style=\"text-align: right;\">\n      <th></th>\n      <th>age</th>\n      <th>workclass</th>\n      <th>fnlwgt</th>\n      <th>education</th>\n      <th>education-num</th>\n      <th>marital-status</th>\n      <th>occupation</th>\n      <th>relationship</th>\n      <th>race</th>\n      <th>sex</th>\n      <th>hours-per-week</th>\n    </tr>\n  </thead>\n  <tbody>\n    <tr>\n      <th>5381</th>\n      <td>26</td>\n      <td>Private</td>\n      <td>58065</td>\n      <td>Bachelors</td>\n      <td>13</td>\n      <td>Never-married</td>\n      <td>Adm-clerical</td>\n      <td>Not-in-family</td>\n      <td>White</td>\n      <td>Female</td>\n      <td>20</td>\n    </tr>\n    <tr>\n      <th>17182</th>\n      <td>57</td>\n      <td>Private</td>\n      <td>206343</td>\n      <td>HS-grad</td>\n      <td>9</td>\n      <td>others</td>\n      <td>Other-service</td>\n      <td>Not-in-family</td>\n      <td>White</td>\n      <td>Male</td>\n      <td>40</td>\n    </tr>\n    <tr>\n      <th>16517</th>\n      <td>31</td>\n      <td>Private</td>\n      <td>198069</td>\n      <td>HS-grad</td>\n      <td>9</td>\n      <td>Never-married</td>\n      <td>Other-service</td>\n      <td>Own-child</td>\n      <td>White</td>\n      <td>Male</td>\n      <td>24</td>\n    </tr>\n    <tr>\n      <th>2117</th>\n      <td>45</td>\n      <td>Non-Private</td>\n      <td>135776</td>\n      <td>Masters</td>\n      <td>14</td>\n      <td>Divorced</td>\n      <td>Prof-specialty</td>\n      <td>Not-in-family</td>\n      <td>White</td>\n      <td>Female</td>\n      <td>30</td>\n    </tr>\n    <tr>\n      <th>2579</th>\n      <td>47</td>\n      <td>Private</td>\n      <td>188330</td>\n      <td>HS-grad</td>\n      <td>9</td>\n      <td>Married-civ-spouse</td>\n      <td>Other-service</td>\n      <td>Husband</td>\n      <td>White</td>\n      <td>Male</td>\n      <td>25</td>\n    </tr>\n  </tbody>\n</table>\n</div>"
     },
     "execution_count": 61,
     "metadata": {},
     "output_type": "execute_result"
    }
   ],
   "source": [
    "x_train.head()"
   ],
   "metadata": {
    "collapsed": false,
    "ExecuteTime": {
     "end_time": "2023-09-21T16:11:53.228984923Z",
     "start_time": "2023-09-21T16:11:53.085509728Z"
    }
   },
   "id": "212e14620d27ccb"
  },
  {
   "cell_type": "markdown",
   "source": [
    "We will ordinal encode the education variable and th rest categorical variable will be encoded as One-hot"
   ],
   "metadata": {
    "collapsed": false
   },
   "id": "39bf8a065c0789dc"
  },
  {
   "cell_type": "code",
   "execution_count": 62,
   "outputs": [],
   "source": [
    "#ordinal encodng of education feature\n",
    "ordinal=OrdinalEncoder(categories=[['other-education', 'Some-college','HS-grad','Bachelors','Masters']])\n",
    "x_train['education']=ordinal.fit_transform(x_train[['education']])\n",
    "x_test['education']=ordinal.transform(x_test[['education']])"
   ],
   "metadata": {
    "collapsed": false,
    "ExecuteTime": {
     "end_time": "2023-09-21T16:11:53.229173239Z",
     "start_time": "2023-09-21T16:11:53.085787512Z"
    }
   },
   "id": "ce05514038b4ac86"
  },
  {
   "cell_type": "code",
   "execution_count": 63,
   "outputs": [
    {
     "data": {
      "text/plain": "       age    workclass  fnlwgt  education  education-num      marital-status  \\\n5381    26      Private   58065        3.0             13       Never-married   \n17182   57      Private  206343        2.0              9              others   \n16517   31      Private  198069        2.0              9       Never-married   \n2117    45  Non-Private  135776        4.0             14            Divorced   \n2579    47      Private  188330        2.0              9  Married-civ-spouse   \n\n           occupation   relationship   race     sex  hours-per-week  \n5381     Adm-clerical  Not-in-family  White  Female              20  \n17182   Other-service  Not-in-family  White    Male              40  \n16517   Other-service      Own-child  White    Male              24  \n2117   Prof-specialty  Not-in-family  White  Female              30  \n2579    Other-service        Husband  White    Male              25  ",
      "text/html": "<div>\n<style scoped>\n    .dataframe tbody tr th:only-of-type {\n        vertical-align: middle;\n    }\n\n    .dataframe tbody tr th {\n        vertical-align: top;\n    }\n\n    .dataframe thead th {\n        text-align: right;\n    }\n</style>\n<table border=\"1\" class=\"dataframe\">\n  <thead>\n    <tr style=\"text-align: right;\">\n      <th></th>\n      <th>age</th>\n      <th>workclass</th>\n      <th>fnlwgt</th>\n      <th>education</th>\n      <th>education-num</th>\n      <th>marital-status</th>\n      <th>occupation</th>\n      <th>relationship</th>\n      <th>race</th>\n      <th>sex</th>\n      <th>hours-per-week</th>\n    </tr>\n  </thead>\n  <tbody>\n    <tr>\n      <th>5381</th>\n      <td>26</td>\n      <td>Private</td>\n      <td>58065</td>\n      <td>3.0</td>\n      <td>13</td>\n      <td>Never-married</td>\n      <td>Adm-clerical</td>\n      <td>Not-in-family</td>\n      <td>White</td>\n      <td>Female</td>\n      <td>20</td>\n    </tr>\n    <tr>\n      <th>17182</th>\n      <td>57</td>\n      <td>Private</td>\n      <td>206343</td>\n      <td>2.0</td>\n      <td>9</td>\n      <td>others</td>\n      <td>Other-service</td>\n      <td>Not-in-family</td>\n      <td>White</td>\n      <td>Male</td>\n      <td>40</td>\n    </tr>\n    <tr>\n      <th>16517</th>\n      <td>31</td>\n      <td>Private</td>\n      <td>198069</td>\n      <td>2.0</td>\n      <td>9</td>\n      <td>Never-married</td>\n      <td>Other-service</td>\n      <td>Own-child</td>\n      <td>White</td>\n      <td>Male</td>\n      <td>24</td>\n    </tr>\n    <tr>\n      <th>2117</th>\n      <td>45</td>\n      <td>Non-Private</td>\n      <td>135776</td>\n      <td>4.0</td>\n      <td>14</td>\n      <td>Divorced</td>\n      <td>Prof-specialty</td>\n      <td>Not-in-family</td>\n      <td>White</td>\n      <td>Female</td>\n      <td>30</td>\n    </tr>\n    <tr>\n      <th>2579</th>\n      <td>47</td>\n      <td>Private</td>\n      <td>188330</td>\n      <td>2.0</td>\n      <td>9</td>\n      <td>Married-civ-spouse</td>\n      <td>Other-service</td>\n      <td>Husband</td>\n      <td>White</td>\n      <td>Male</td>\n      <td>25</td>\n    </tr>\n  </tbody>\n</table>\n</div>"
     },
     "execution_count": 63,
     "metadata": {},
     "output_type": "execute_result"
    }
   ],
   "source": [
    "x_train.head()"
   ],
   "metadata": {
    "collapsed": false,
    "ExecuteTime": {
     "end_time": "2023-09-21T16:11:53.229637135Z",
     "start_time": "2023-09-21T16:11:53.129287167Z"
    }
   },
   "id": "1b4bf9af857cc4e0"
  },
  {
   "cell_type": "markdown",
   "source": [
    "We can do label encoding for private class they are only two categoris"
   ],
   "metadata": {
    "collapsed": false
   },
   "id": "211ce397a55d6cc5"
  },
  {
   "cell_type": "code",
   "execution_count": 64,
   "outputs": [],
   "source": [
    "#converting working class and sex feature into binary\n",
    "label=LabelEncoder()\n",
    "cat=['workclass','sex']\n",
    "for i in cat:\n",
    "    x_train[i]=label.fit_transform(x_train[i])\n",
    "    x_test[i]=label.transform(x_test[i])"
   ],
   "metadata": {
    "collapsed": false,
    "ExecuteTime": {
     "end_time": "2023-09-21T16:11:53.229743025Z",
     "start_time": "2023-09-21T16:11:53.129548451Z"
    }
   },
   "id": "ee6c6598df32b0b7"
  },
  {
   "cell_type": "code",
   "execution_count": 65,
   "outputs": [
    {
     "data": {
      "text/plain": "       age  workclass  fnlwgt  education  education-num      marital-status  \\\n5381    26          1   58065        3.0             13       Never-married   \n17182   57          1  206343        2.0              9              others   \n16517   31          1  198069        2.0              9       Never-married   \n2117    45          0  135776        4.0             14            Divorced   \n2579    47          1  188330        2.0              9  Married-civ-spouse   \n\n           occupation   relationship   race  sex  hours-per-week  \n5381     Adm-clerical  Not-in-family  White    0              20  \n17182   Other-service  Not-in-family  White    1              40  \n16517   Other-service      Own-child  White    1              24  \n2117   Prof-specialty  Not-in-family  White    0              30  \n2579    Other-service        Husband  White    1              25  ",
      "text/html": "<div>\n<style scoped>\n    .dataframe tbody tr th:only-of-type {\n        vertical-align: middle;\n    }\n\n    .dataframe tbody tr th {\n        vertical-align: top;\n    }\n\n    .dataframe thead th {\n        text-align: right;\n    }\n</style>\n<table border=\"1\" class=\"dataframe\">\n  <thead>\n    <tr style=\"text-align: right;\">\n      <th></th>\n      <th>age</th>\n      <th>workclass</th>\n      <th>fnlwgt</th>\n      <th>education</th>\n      <th>education-num</th>\n      <th>marital-status</th>\n      <th>occupation</th>\n      <th>relationship</th>\n      <th>race</th>\n      <th>sex</th>\n      <th>hours-per-week</th>\n    </tr>\n  </thead>\n  <tbody>\n    <tr>\n      <th>5381</th>\n      <td>26</td>\n      <td>1</td>\n      <td>58065</td>\n      <td>3.0</td>\n      <td>13</td>\n      <td>Never-married</td>\n      <td>Adm-clerical</td>\n      <td>Not-in-family</td>\n      <td>White</td>\n      <td>0</td>\n      <td>20</td>\n    </tr>\n    <tr>\n      <th>17182</th>\n      <td>57</td>\n      <td>1</td>\n      <td>206343</td>\n      <td>2.0</td>\n      <td>9</td>\n      <td>others</td>\n      <td>Other-service</td>\n      <td>Not-in-family</td>\n      <td>White</td>\n      <td>1</td>\n      <td>40</td>\n    </tr>\n    <tr>\n      <th>16517</th>\n      <td>31</td>\n      <td>1</td>\n      <td>198069</td>\n      <td>2.0</td>\n      <td>9</td>\n      <td>Never-married</td>\n      <td>Other-service</td>\n      <td>Own-child</td>\n      <td>White</td>\n      <td>1</td>\n      <td>24</td>\n    </tr>\n    <tr>\n      <th>2117</th>\n      <td>45</td>\n      <td>0</td>\n      <td>135776</td>\n      <td>4.0</td>\n      <td>14</td>\n      <td>Divorced</td>\n      <td>Prof-specialty</td>\n      <td>Not-in-family</td>\n      <td>White</td>\n      <td>0</td>\n      <td>30</td>\n    </tr>\n    <tr>\n      <th>2579</th>\n      <td>47</td>\n      <td>1</td>\n      <td>188330</td>\n      <td>2.0</td>\n      <td>9</td>\n      <td>Married-civ-spouse</td>\n      <td>Other-service</td>\n      <td>Husband</td>\n      <td>White</td>\n      <td>1</td>\n      <td>25</td>\n    </tr>\n  </tbody>\n</table>\n</div>"
     },
     "execution_count": 65,
     "metadata": {},
     "output_type": "execute_result"
    }
   ],
   "source": [
    "x_train.head()"
   ],
   "metadata": {
    "collapsed": false,
    "ExecuteTime": {
     "end_time": "2023-09-21T16:11:53.230283125Z",
     "start_time": "2023-09-21T16:11:53.129684858Z"
    }
   },
   "id": "d04ae8d5eee27e3d"
  },
  {
   "cell_type": "markdown",
   "source": [
    "One-Hot encoding the rest of the categorical columns"
   ],
   "metadata": {
    "collapsed": false
   },
   "id": "a725f64b4e0f0a3c"
  },
  {
   "cell_type": "code",
   "execution_count": 66,
   "outputs": [],
   "source": [
    "#categorical and numerical columns\n",
    "cat_cols=['marital-status','occupation','relationship','race']\n",
    "num_cols=['age','fnlwgt','education','education-num','hours-per-week']"
   ],
   "metadata": {
    "collapsed": false,
    "ExecuteTime": {
     "end_time": "2023-09-21T16:11:53.230378625Z",
     "start_time": "2023-09-21T16:11:53.129840943Z"
    }
   },
   "id": "23a9f39e465c50a4"
  },
  {
   "cell_type": "code",
   "execution_count": 67,
   "outputs": [],
   "source": [
    "#create a columns Transformer\n",
    "ct=ColumnTransformer([\n",
    "    ('On-hot-encode',OneHotEncoder(handle_unknown='ignore'),cat_cols),\n",
    "    ('scaling',MinMaxScaler(),num_cols)\n",
    "])"
   ],
   "metadata": {
    "collapsed": false,
    "ExecuteTime": {
     "end_time": "2023-09-21T16:11:53.230454739Z",
     "start_time": "2023-09-21T16:11:53.130035641Z"
    }
   },
   "id": "307471f5b63901ff"
  },
  {
   "cell_type": "markdown",
   "source": [
    "## Logistic Regression"
   ],
   "metadata": {
    "collapsed": false
   },
   "id": "c52bde28fc7eb78"
  },
  {
   "cell_type": "code",
   "execution_count": 68,
   "outputs": [],
   "source": [
    "#create a Pipeline and build a model\n",
    "pipeline=Pipeline([\n",
    "    ('ct',ct),\n",
    "    ('model',LogisticRegression())\n",
    "])"
   ],
   "metadata": {
    "collapsed": false,
    "ExecuteTime": {
     "end_time": "2023-09-21T16:11:53.230539900Z",
     "start_time": "2023-09-21T16:11:53.130135600Z"
    }
   },
   "id": "e62725b89d2203b6"
  },
  {
   "cell_type": "code",
   "execution_count": 69,
   "outputs": [
    {
     "data": {
      "text/plain": "Pipeline(steps=[('ct',\n                 ColumnTransformer(transformers=[('On-hot-encode',\n                                                  OneHotEncoder(handle_unknown='ignore'),\n                                                  ['marital-status',\n                                                   'occupation', 'relationship',\n                                                   'race']),\n                                                 ('scaling', MinMaxScaler(),\n                                                  ['age', 'fnlwgt', 'education',\n                                                   'education-num',\n                                                   'hours-per-week'])])),\n                ('model', LogisticRegression())])",
      "text/html": "<style>#sk-container-id-1 {color: black;background-color: white;}#sk-container-id-1 pre{padding: 0;}#sk-container-id-1 div.sk-toggleable {background-color: white;}#sk-container-id-1 label.sk-toggleable__label {cursor: pointer;display: block;width: 100%;margin-bottom: 0;padding: 0.3em;box-sizing: border-box;text-align: center;}#sk-container-id-1 label.sk-toggleable__label-arrow:before {content: \"▸\";float: left;margin-right: 0.25em;color: #696969;}#sk-container-id-1 label.sk-toggleable__label-arrow:hover:before {color: black;}#sk-container-id-1 div.sk-estimator:hover label.sk-toggleable__label-arrow:before {color: black;}#sk-container-id-1 div.sk-toggleable__content {max-height: 0;max-width: 0;overflow: hidden;text-align: left;background-color: #f0f8ff;}#sk-container-id-1 div.sk-toggleable__content pre {margin: 0.2em;color: black;border-radius: 0.25em;background-color: #f0f8ff;}#sk-container-id-1 input.sk-toggleable__control:checked~div.sk-toggleable__content {max-height: 200px;max-width: 100%;overflow: auto;}#sk-container-id-1 input.sk-toggleable__control:checked~label.sk-toggleable__label-arrow:before {content: \"▾\";}#sk-container-id-1 div.sk-estimator input.sk-toggleable__control:checked~label.sk-toggleable__label {background-color: #d4ebff;}#sk-container-id-1 div.sk-label input.sk-toggleable__control:checked~label.sk-toggleable__label {background-color: #d4ebff;}#sk-container-id-1 input.sk-hidden--visually {border: 0;clip: rect(1px 1px 1px 1px);clip: rect(1px, 1px, 1px, 1px);height: 1px;margin: -1px;overflow: hidden;padding: 0;position: absolute;width: 1px;}#sk-container-id-1 div.sk-estimator {font-family: monospace;background-color: #f0f8ff;border: 1px dotted black;border-radius: 0.25em;box-sizing: border-box;margin-bottom: 0.5em;}#sk-container-id-1 div.sk-estimator:hover {background-color: #d4ebff;}#sk-container-id-1 div.sk-parallel-item::after {content: \"\";width: 100%;border-bottom: 1px solid gray;flex-grow: 1;}#sk-container-id-1 div.sk-label:hover label.sk-toggleable__label {background-color: #d4ebff;}#sk-container-id-1 div.sk-serial::before {content: \"\";position: absolute;border-left: 1px solid gray;box-sizing: border-box;top: 0;bottom: 0;left: 50%;z-index: 0;}#sk-container-id-1 div.sk-serial {display: flex;flex-direction: column;align-items: center;background-color: white;padding-right: 0.2em;padding-left: 0.2em;position: relative;}#sk-container-id-1 div.sk-item {position: relative;z-index: 1;}#sk-container-id-1 div.sk-parallel {display: flex;align-items: stretch;justify-content: center;background-color: white;position: relative;}#sk-container-id-1 div.sk-item::before, #sk-container-id-1 div.sk-parallel-item::before {content: \"\";position: absolute;border-left: 1px solid gray;box-sizing: border-box;top: 0;bottom: 0;left: 50%;z-index: -1;}#sk-container-id-1 div.sk-parallel-item {display: flex;flex-direction: column;z-index: 1;position: relative;background-color: white;}#sk-container-id-1 div.sk-parallel-item:first-child::after {align-self: flex-end;width: 50%;}#sk-container-id-1 div.sk-parallel-item:last-child::after {align-self: flex-start;width: 50%;}#sk-container-id-1 div.sk-parallel-item:only-child::after {width: 0;}#sk-container-id-1 div.sk-dashed-wrapped {border: 1px dashed gray;margin: 0 0.4em 0.5em 0.4em;box-sizing: border-box;padding-bottom: 0.4em;background-color: white;}#sk-container-id-1 div.sk-label label {font-family: monospace;font-weight: bold;display: inline-block;line-height: 1.2em;}#sk-container-id-1 div.sk-label-container {text-align: center;}#sk-container-id-1 div.sk-container {/* jupyter's `normalize.less` sets `[hidden] { display: none; }` but bootstrap.min.css set `[hidden] { display: none !important; }` so we also need the `!important` here to be able to override the default hidden behavior on the sphinx rendered scikit-learn.org. See: https://github.com/scikit-learn/scikit-learn/issues/21755 */display: inline-block !important;position: relative;}#sk-container-id-1 div.sk-text-repr-fallback {display: none;}</style><div id=\"sk-container-id-1\" class=\"sk-top-container\"><div class=\"sk-text-repr-fallback\"><pre>Pipeline(steps=[(&#x27;ct&#x27;,\n                 ColumnTransformer(transformers=[(&#x27;On-hot-encode&#x27;,\n                                                  OneHotEncoder(handle_unknown=&#x27;ignore&#x27;),\n                                                  [&#x27;marital-status&#x27;,\n                                                   &#x27;occupation&#x27;, &#x27;relationship&#x27;,\n                                                   &#x27;race&#x27;]),\n                                                 (&#x27;scaling&#x27;, MinMaxScaler(),\n                                                  [&#x27;age&#x27;, &#x27;fnlwgt&#x27;, &#x27;education&#x27;,\n                                                   &#x27;education-num&#x27;,\n                                                   &#x27;hours-per-week&#x27;])])),\n                (&#x27;model&#x27;, LogisticRegression())])</pre><b>In a Jupyter environment, please rerun this cell to show the HTML representation or trust the notebook. <br />On GitHub, the HTML representation is unable to render, please try loading this page with nbviewer.org.</b></div><div class=\"sk-container\" hidden><div class=\"sk-item sk-dashed-wrapped\"><div class=\"sk-label-container\"><div class=\"sk-label sk-toggleable\"><input class=\"sk-toggleable__control sk-hidden--visually\" id=\"sk-estimator-id-1\" type=\"checkbox\" ><label for=\"sk-estimator-id-1\" class=\"sk-toggleable__label sk-toggleable__label-arrow\">Pipeline</label><div class=\"sk-toggleable__content\"><pre>Pipeline(steps=[(&#x27;ct&#x27;,\n                 ColumnTransformer(transformers=[(&#x27;On-hot-encode&#x27;,\n                                                  OneHotEncoder(handle_unknown=&#x27;ignore&#x27;),\n                                                  [&#x27;marital-status&#x27;,\n                                                   &#x27;occupation&#x27;, &#x27;relationship&#x27;,\n                                                   &#x27;race&#x27;]),\n                                                 (&#x27;scaling&#x27;, MinMaxScaler(),\n                                                  [&#x27;age&#x27;, &#x27;fnlwgt&#x27;, &#x27;education&#x27;,\n                                                   &#x27;education-num&#x27;,\n                                                   &#x27;hours-per-week&#x27;])])),\n                (&#x27;model&#x27;, LogisticRegression())])</pre></div></div></div><div class=\"sk-serial\"><div class=\"sk-item sk-dashed-wrapped\"><div class=\"sk-label-container\"><div class=\"sk-label sk-toggleable\"><input class=\"sk-toggleable__control sk-hidden--visually\" id=\"sk-estimator-id-2\" type=\"checkbox\" ><label for=\"sk-estimator-id-2\" class=\"sk-toggleable__label sk-toggleable__label-arrow\">ct: ColumnTransformer</label><div class=\"sk-toggleable__content\"><pre>ColumnTransformer(transformers=[(&#x27;On-hot-encode&#x27;,\n                                 OneHotEncoder(handle_unknown=&#x27;ignore&#x27;),\n                                 [&#x27;marital-status&#x27;, &#x27;occupation&#x27;,\n                                  &#x27;relationship&#x27;, &#x27;race&#x27;]),\n                                (&#x27;scaling&#x27;, MinMaxScaler(),\n                                 [&#x27;age&#x27;, &#x27;fnlwgt&#x27;, &#x27;education&#x27;, &#x27;education-num&#x27;,\n                                  &#x27;hours-per-week&#x27;])])</pre></div></div></div><div class=\"sk-parallel\"><div class=\"sk-parallel-item\"><div class=\"sk-item\"><div class=\"sk-label-container\"><div class=\"sk-label sk-toggleable\"><input class=\"sk-toggleable__control sk-hidden--visually\" id=\"sk-estimator-id-3\" type=\"checkbox\" ><label for=\"sk-estimator-id-3\" class=\"sk-toggleable__label sk-toggleable__label-arrow\">On-hot-encode</label><div class=\"sk-toggleable__content\"><pre>[&#x27;marital-status&#x27;, &#x27;occupation&#x27;, &#x27;relationship&#x27;, &#x27;race&#x27;]</pre></div></div></div><div class=\"sk-serial\"><div class=\"sk-item\"><div class=\"sk-estimator sk-toggleable\"><input class=\"sk-toggleable__control sk-hidden--visually\" id=\"sk-estimator-id-4\" type=\"checkbox\" ><label for=\"sk-estimator-id-4\" class=\"sk-toggleable__label sk-toggleable__label-arrow\">OneHotEncoder</label><div class=\"sk-toggleable__content\"><pre>OneHotEncoder(handle_unknown=&#x27;ignore&#x27;)</pre></div></div></div></div></div></div><div class=\"sk-parallel-item\"><div class=\"sk-item\"><div class=\"sk-label-container\"><div class=\"sk-label sk-toggleable\"><input class=\"sk-toggleable__control sk-hidden--visually\" id=\"sk-estimator-id-5\" type=\"checkbox\" ><label for=\"sk-estimator-id-5\" class=\"sk-toggleable__label sk-toggleable__label-arrow\">scaling</label><div class=\"sk-toggleable__content\"><pre>[&#x27;age&#x27;, &#x27;fnlwgt&#x27;, &#x27;education&#x27;, &#x27;education-num&#x27;, &#x27;hours-per-week&#x27;]</pre></div></div></div><div class=\"sk-serial\"><div class=\"sk-item\"><div class=\"sk-estimator sk-toggleable\"><input class=\"sk-toggleable__control sk-hidden--visually\" id=\"sk-estimator-id-6\" type=\"checkbox\" ><label for=\"sk-estimator-id-6\" class=\"sk-toggleable__label sk-toggleable__label-arrow\">MinMaxScaler</label><div class=\"sk-toggleable__content\"><pre>MinMaxScaler()</pre></div></div></div></div></div></div></div></div><div class=\"sk-item\"><div class=\"sk-estimator sk-toggleable\"><input class=\"sk-toggleable__control sk-hidden--visually\" id=\"sk-estimator-id-7\" type=\"checkbox\" ><label for=\"sk-estimator-id-7\" class=\"sk-toggleable__label sk-toggleable__label-arrow\">LogisticRegression</label><div class=\"sk-toggleable__content\"><pre>LogisticRegression()</pre></div></div></div></div></div></div></div>"
     },
     "execution_count": 69,
     "metadata": {},
     "output_type": "execute_result"
    }
   ],
   "source": [
    "pipeline.fit(x_train,y_train)"
   ],
   "metadata": {
    "collapsed": false,
    "ExecuteTime": {
     "end_time": "2023-09-21T16:11:54.373249551Z",
     "start_time": "2023-09-21T16:11:53.130234306Z"
    }
   },
   "id": "9cb1b255a3141ba3"
  },
  {
   "cell_type": "code",
   "execution_count": 70,
   "outputs": [],
   "source": [
    "#create a function to evaluate model\n",
    "def evaluate(model,data,y_true):\n",
    "    \"\"\"\n",
    "    :param model: trained model\n",
    "    :param data: test data\n",
    "    :param y_true: actual y\n",
    "    :return: accuracy,classification_report and confusion matrix\n",
    "    \"\"\"\n",
    "    y_pred=model.predict(data)\n",
    "    accuracy=accuracy_score(y_true,y_pred)\n",
    "    report=classification_report(y_true,y_pred)\n",
    "    cnf_matrix=confusion_matrix(y_true,y_pred)\n",
    "    #train accuracy\n",
    "    print('-----------o-------------')\n",
    "    print('Accuracy:',accuracy*100)\n",
    "    print('------------o------------')\n",
    "    print('Classfication report:\\n', report)\n",
    "    print('------------o------------')\n",
    "    print('Logistic regression Confusion Matrix:\\n',cnf_matrix)\n",
    "    print('----------------o--------------')"
   ],
   "metadata": {
    "collapsed": false,
    "ExecuteTime": {
     "end_time": "2023-09-21T16:11:54.915563352Z",
     "start_time": "2023-09-21T16:11:53.231400866Z"
    }
   },
   "id": "a7bba297ed87615a"
  },
  {
   "cell_type": "markdown",
   "source": [
    "As this is a class imbalance problem. We should look at the f1-score for better understanding."
   ],
   "metadata": {
    "collapsed": false
   },
   "id": "73d5216201ddc359"
  },
  {
   "cell_type": "code",
   "execution_count": 71,
   "outputs": [
    {
     "name": "stdout",
     "output_type": "stream",
     "text": [
      "-----------o-------------\n",
      "Accuracy: 82.76330076004344\n",
      "------------o------------\n",
      "Classfication report:\n",
      "               precision    recall  f1-score   support\n",
      "\n",
      "           0       0.86      0.92      0.89     19575\n",
      "           1       0.69      0.52      0.59      6213\n",
      "\n",
      "    accuracy                           0.83     25788\n",
      "   macro avg       0.77      0.72      0.74     25788\n",
      "weighted avg       0.82      0.83      0.82     25788\n",
      "\n",
      "------------o------------\n",
      "Logistic regression Confusion Matrix:\n",
      " [[18105  1470]\n",
      " [ 2975  3238]]\n",
      "----------------o--------------\n"
     ]
    }
   ],
   "source": [
    "#training score\n",
    "evaluate(pipeline,x_train,y_train)"
   ],
   "metadata": {
    "collapsed": false,
    "ExecuteTime": {
     "end_time": "2023-09-21T16:11:54.915897934Z",
     "start_time": "2023-09-21T16:11:53.277257002Z"
    }
   },
   "id": "24a0dbd85c2a3fdc"
  },
  {
   "cell_type": "code",
   "execution_count": 72,
   "outputs": [
    {
     "name": "stdout",
     "output_type": "stream",
     "text": [
      "-----------o-------------\n",
      "Accuracy: 81.94789081885855\n",
      "------------o------------\n",
      "Classfication report:\n",
      "               precision    recall  f1-score   support\n",
      "\n",
      "           0       0.86      0.91      0.88      4894\n",
      "           1       0.66      0.52      0.58      1554\n",
      "\n",
      "    accuracy                           0.82      6448\n",
      "   macro avg       0.76      0.72      0.73      6448\n",
      "weighted avg       0.81      0.82      0.81      6448\n",
      "\n",
      "------------o------------\n",
      "Logistic regression Confusion Matrix:\n",
      " [[4471  423]\n",
      " [ 741  813]]\n",
      "----------------o--------------\n"
     ]
    }
   ],
   "source": [
    "#testing scores\n",
    "evaluate(pipeline,x_test,y_test)"
   ],
   "metadata": {
    "collapsed": false,
    "ExecuteTime": {
     "end_time": "2023-09-21T16:11:54.916043308Z",
     "start_time": "2023-09-21T16:11:53.321358423Z"
    }
   },
   "id": "adfd287b2fec3de6"
  },
  {
   "cell_type": "markdown",
   "source": [
    "* We can also see that model isn't overfitting. This is a case of Class imabalnce problem , so we need to adjust the weights of our class"
   ],
   "metadata": {
    "collapsed": false
   },
   "id": "39cb9f53788e64b2"
  },
  {
   "cell_type": "code",
   "execution_count": 73,
   "outputs": [
    {
     "data": {
      "text/plain": "Pipeline(steps=[('ct',\n                 ColumnTransformer(transformers=[('On-hot-encode',\n                                                  OneHotEncoder(handle_unknown='ignore'),\n                                                  ['marital-status',\n                                                   'occupation', 'relationship',\n                                                   'race']),\n                                                 ('scaling', MinMaxScaler(),\n                                                  ['age', 'fnlwgt', 'education',\n                                                   'education-num',\n                                                   'hours-per-week'])])),\n                ('model', LogisticRegression(class_weight={0: 1, 1: 1.5}))])",
      "text/html": "<style>#sk-container-id-2 {color: black;background-color: white;}#sk-container-id-2 pre{padding: 0;}#sk-container-id-2 div.sk-toggleable {background-color: white;}#sk-container-id-2 label.sk-toggleable__label {cursor: pointer;display: block;width: 100%;margin-bottom: 0;padding: 0.3em;box-sizing: border-box;text-align: center;}#sk-container-id-2 label.sk-toggleable__label-arrow:before {content: \"▸\";float: left;margin-right: 0.25em;color: #696969;}#sk-container-id-2 label.sk-toggleable__label-arrow:hover:before {color: black;}#sk-container-id-2 div.sk-estimator:hover label.sk-toggleable__label-arrow:before {color: black;}#sk-container-id-2 div.sk-toggleable__content {max-height: 0;max-width: 0;overflow: hidden;text-align: left;background-color: #f0f8ff;}#sk-container-id-2 div.sk-toggleable__content pre {margin: 0.2em;color: black;border-radius: 0.25em;background-color: #f0f8ff;}#sk-container-id-2 input.sk-toggleable__control:checked~div.sk-toggleable__content {max-height: 200px;max-width: 100%;overflow: auto;}#sk-container-id-2 input.sk-toggleable__control:checked~label.sk-toggleable__label-arrow:before {content: \"▾\";}#sk-container-id-2 div.sk-estimator input.sk-toggleable__control:checked~label.sk-toggleable__label {background-color: #d4ebff;}#sk-container-id-2 div.sk-label input.sk-toggleable__control:checked~label.sk-toggleable__label {background-color: #d4ebff;}#sk-container-id-2 input.sk-hidden--visually {border: 0;clip: rect(1px 1px 1px 1px);clip: rect(1px, 1px, 1px, 1px);height: 1px;margin: -1px;overflow: hidden;padding: 0;position: absolute;width: 1px;}#sk-container-id-2 div.sk-estimator {font-family: monospace;background-color: #f0f8ff;border: 1px dotted black;border-radius: 0.25em;box-sizing: border-box;margin-bottom: 0.5em;}#sk-container-id-2 div.sk-estimator:hover {background-color: #d4ebff;}#sk-container-id-2 div.sk-parallel-item::after {content: \"\";width: 100%;border-bottom: 1px solid gray;flex-grow: 1;}#sk-container-id-2 div.sk-label:hover label.sk-toggleable__label {background-color: #d4ebff;}#sk-container-id-2 div.sk-serial::before {content: \"\";position: absolute;border-left: 1px solid gray;box-sizing: border-box;top: 0;bottom: 0;left: 50%;z-index: 0;}#sk-container-id-2 div.sk-serial {display: flex;flex-direction: column;align-items: center;background-color: white;padding-right: 0.2em;padding-left: 0.2em;position: relative;}#sk-container-id-2 div.sk-item {position: relative;z-index: 1;}#sk-container-id-2 div.sk-parallel {display: flex;align-items: stretch;justify-content: center;background-color: white;position: relative;}#sk-container-id-2 div.sk-item::before, #sk-container-id-2 div.sk-parallel-item::before {content: \"\";position: absolute;border-left: 1px solid gray;box-sizing: border-box;top: 0;bottom: 0;left: 50%;z-index: -1;}#sk-container-id-2 div.sk-parallel-item {display: flex;flex-direction: column;z-index: 1;position: relative;background-color: white;}#sk-container-id-2 div.sk-parallel-item:first-child::after {align-self: flex-end;width: 50%;}#sk-container-id-2 div.sk-parallel-item:last-child::after {align-self: flex-start;width: 50%;}#sk-container-id-2 div.sk-parallel-item:only-child::after {width: 0;}#sk-container-id-2 div.sk-dashed-wrapped {border: 1px dashed gray;margin: 0 0.4em 0.5em 0.4em;box-sizing: border-box;padding-bottom: 0.4em;background-color: white;}#sk-container-id-2 div.sk-label label {font-family: monospace;font-weight: bold;display: inline-block;line-height: 1.2em;}#sk-container-id-2 div.sk-label-container {text-align: center;}#sk-container-id-2 div.sk-container {/* jupyter's `normalize.less` sets `[hidden] { display: none; }` but bootstrap.min.css set `[hidden] { display: none !important; }` so we also need the `!important` here to be able to override the default hidden behavior on the sphinx rendered scikit-learn.org. See: https://github.com/scikit-learn/scikit-learn/issues/21755 */display: inline-block !important;position: relative;}#sk-container-id-2 div.sk-text-repr-fallback {display: none;}</style><div id=\"sk-container-id-2\" class=\"sk-top-container\"><div class=\"sk-text-repr-fallback\"><pre>Pipeline(steps=[(&#x27;ct&#x27;,\n                 ColumnTransformer(transformers=[(&#x27;On-hot-encode&#x27;,\n                                                  OneHotEncoder(handle_unknown=&#x27;ignore&#x27;),\n                                                  [&#x27;marital-status&#x27;,\n                                                   &#x27;occupation&#x27;, &#x27;relationship&#x27;,\n                                                   &#x27;race&#x27;]),\n                                                 (&#x27;scaling&#x27;, MinMaxScaler(),\n                                                  [&#x27;age&#x27;, &#x27;fnlwgt&#x27;, &#x27;education&#x27;,\n                                                   &#x27;education-num&#x27;,\n                                                   &#x27;hours-per-week&#x27;])])),\n                (&#x27;model&#x27;, LogisticRegression(class_weight={0: 1, 1: 1.5}))])</pre><b>In a Jupyter environment, please rerun this cell to show the HTML representation or trust the notebook. <br />On GitHub, the HTML representation is unable to render, please try loading this page with nbviewer.org.</b></div><div class=\"sk-container\" hidden><div class=\"sk-item sk-dashed-wrapped\"><div class=\"sk-label-container\"><div class=\"sk-label sk-toggleable\"><input class=\"sk-toggleable__control sk-hidden--visually\" id=\"sk-estimator-id-8\" type=\"checkbox\" ><label for=\"sk-estimator-id-8\" class=\"sk-toggleable__label sk-toggleable__label-arrow\">Pipeline</label><div class=\"sk-toggleable__content\"><pre>Pipeline(steps=[(&#x27;ct&#x27;,\n                 ColumnTransformer(transformers=[(&#x27;On-hot-encode&#x27;,\n                                                  OneHotEncoder(handle_unknown=&#x27;ignore&#x27;),\n                                                  [&#x27;marital-status&#x27;,\n                                                   &#x27;occupation&#x27;, &#x27;relationship&#x27;,\n                                                   &#x27;race&#x27;]),\n                                                 (&#x27;scaling&#x27;, MinMaxScaler(),\n                                                  [&#x27;age&#x27;, &#x27;fnlwgt&#x27;, &#x27;education&#x27;,\n                                                   &#x27;education-num&#x27;,\n                                                   &#x27;hours-per-week&#x27;])])),\n                (&#x27;model&#x27;, LogisticRegression(class_weight={0: 1, 1: 1.5}))])</pre></div></div></div><div class=\"sk-serial\"><div class=\"sk-item sk-dashed-wrapped\"><div class=\"sk-label-container\"><div class=\"sk-label sk-toggleable\"><input class=\"sk-toggleable__control sk-hidden--visually\" id=\"sk-estimator-id-9\" type=\"checkbox\" ><label for=\"sk-estimator-id-9\" class=\"sk-toggleable__label sk-toggleable__label-arrow\">ct: ColumnTransformer</label><div class=\"sk-toggleable__content\"><pre>ColumnTransformer(transformers=[(&#x27;On-hot-encode&#x27;,\n                                 OneHotEncoder(handle_unknown=&#x27;ignore&#x27;),\n                                 [&#x27;marital-status&#x27;, &#x27;occupation&#x27;,\n                                  &#x27;relationship&#x27;, &#x27;race&#x27;]),\n                                (&#x27;scaling&#x27;, MinMaxScaler(),\n                                 [&#x27;age&#x27;, &#x27;fnlwgt&#x27;, &#x27;education&#x27;, &#x27;education-num&#x27;,\n                                  &#x27;hours-per-week&#x27;])])</pre></div></div></div><div class=\"sk-parallel\"><div class=\"sk-parallel-item\"><div class=\"sk-item\"><div class=\"sk-label-container\"><div class=\"sk-label sk-toggleable\"><input class=\"sk-toggleable__control sk-hidden--visually\" id=\"sk-estimator-id-10\" type=\"checkbox\" ><label for=\"sk-estimator-id-10\" class=\"sk-toggleable__label sk-toggleable__label-arrow\">On-hot-encode</label><div class=\"sk-toggleable__content\"><pre>[&#x27;marital-status&#x27;, &#x27;occupation&#x27;, &#x27;relationship&#x27;, &#x27;race&#x27;]</pre></div></div></div><div class=\"sk-serial\"><div class=\"sk-item\"><div class=\"sk-estimator sk-toggleable\"><input class=\"sk-toggleable__control sk-hidden--visually\" id=\"sk-estimator-id-11\" type=\"checkbox\" ><label for=\"sk-estimator-id-11\" class=\"sk-toggleable__label sk-toggleable__label-arrow\">OneHotEncoder</label><div class=\"sk-toggleable__content\"><pre>OneHotEncoder(handle_unknown=&#x27;ignore&#x27;)</pre></div></div></div></div></div></div><div class=\"sk-parallel-item\"><div class=\"sk-item\"><div class=\"sk-label-container\"><div class=\"sk-label sk-toggleable\"><input class=\"sk-toggleable__control sk-hidden--visually\" id=\"sk-estimator-id-12\" type=\"checkbox\" ><label for=\"sk-estimator-id-12\" class=\"sk-toggleable__label sk-toggleable__label-arrow\">scaling</label><div class=\"sk-toggleable__content\"><pre>[&#x27;age&#x27;, &#x27;fnlwgt&#x27;, &#x27;education&#x27;, &#x27;education-num&#x27;, &#x27;hours-per-week&#x27;]</pre></div></div></div><div class=\"sk-serial\"><div class=\"sk-item\"><div class=\"sk-estimator sk-toggleable\"><input class=\"sk-toggleable__control sk-hidden--visually\" id=\"sk-estimator-id-13\" type=\"checkbox\" ><label for=\"sk-estimator-id-13\" class=\"sk-toggleable__label sk-toggleable__label-arrow\">MinMaxScaler</label><div class=\"sk-toggleable__content\"><pre>MinMaxScaler()</pre></div></div></div></div></div></div></div></div><div class=\"sk-item\"><div class=\"sk-estimator sk-toggleable\"><input class=\"sk-toggleable__control sk-hidden--visually\" id=\"sk-estimator-id-14\" type=\"checkbox\" ><label for=\"sk-estimator-id-14\" class=\"sk-toggleable__label sk-toggleable__label-arrow\">LogisticRegression</label><div class=\"sk-toggleable__content\"><pre>LogisticRegression(class_weight={0: 1, 1: 1.5})</pre></div></div></div></div></div></div></div>"
     },
     "execution_count": 73,
     "metadata": {},
     "output_type": "execute_result"
    }
   ],
   "source": [
    "#create a Pipeline and build a model\n",
    "pipeline_wt_balance=Pipeline([\n",
    "    ('ct',ct),\n",
    "    ('model',LogisticRegression(class_weight={0:1,1:1.5}))\n",
    "])\n",
    "pipeline_wt_balance.fit(x_train,y_train)"
   ],
   "metadata": {
    "collapsed": false,
    "ExecuteTime": {
     "end_time": "2023-09-21T16:11:54.916637811Z",
     "start_time": "2023-09-21T16:11:53.365186649Z"
    }
   },
   "id": "abdf8716733a48ae"
  },
  {
   "cell_type": "code",
   "execution_count": 74,
   "outputs": [
    {
     "name": "stdout",
     "output_type": "stream",
     "text": [
      "-----------o-------------\n",
      "Accuracy: 82.37164572669458\n",
      "------------o------------\n",
      "Classfication report:\n",
      "               precision    recall  f1-score   support\n",
      "\n",
      "           0       0.89      0.88      0.88     19575\n",
      "           1       0.63      0.64      0.64      6213\n",
      "\n",
      "    accuracy                           0.82     25788\n",
      "   macro avg       0.76      0.76      0.76     25788\n",
      "weighted avg       0.82      0.82      0.82     25788\n",
      "\n",
      "------------o------------\n",
      "Logistic regression Confusion Matrix:\n",
      " [[17262  2313]\n",
      " [ 2233  3980]]\n",
      "----------------o--------------\n"
     ]
    }
   ],
   "source": [
    "#training score\n",
    "evaluate(pipeline_wt_balance,x_train,y_train)"
   ],
   "metadata": {
    "collapsed": false,
    "ExecuteTime": {
     "end_time": "2023-09-21T16:11:54.916806400Z",
     "start_time": "2023-09-21T16:11:53.477237537Z"
    }
   },
   "id": "c671146db2e3bbc9"
  },
  {
   "cell_type": "code",
   "execution_count": 75,
   "outputs": [
    {
     "name": "stdout",
     "output_type": "stream",
     "text": [
      "-----------o-------------\n",
      "Accuracy: 81.42059553349877\n",
      "------------o------------\n",
      "Classfication report:\n",
      "               precision    recall  f1-score   support\n",
      "\n",
      "           0       0.88      0.87      0.88      4894\n",
      "           1       0.61      0.64      0.63      1554\n",
      "\n",
      "    accuracy                           0.81      6448\n",
      "   macro avg       0.75      0.76      0.75      6448\n",
      "weighted avg       0.82      0.81      0.82      6448\n",
      "\n",
      "------------o------------\n",
      "Logistic regression Confusion Matrix:\n",
      " [[4249  645]\n",
      " [ 553 1001]]\n",
      "----------------o--------------\n"
     ]
    }
   ],
   "source": [
    "#test score\n",
    "evaluate(pipeline_wt_balance,x_test,y_test)"
   ],
   "metadata": {
    "collapsed": false,
    "ExecuteTime": {
     "end_time": "2023-09-21T16:11:54.916961553Z",
     "start_time": "2023-09-21T16:11:53.496880309Z"
    }
   },
   "id": "b6cfa7e8755093"
  },
  {
   "cell_type": "markdown",
   "source": [
    "*Adjusting our weights has improved the f1-score.*"
   ],
   "metadata": {
    "collapsed": false
   },
   "id": "3437866fcd44f4b6"
  },
  {
   "cell_type": "markdown",
   "source": [
    "## XGBoost"
   ],
   "metadata": {
    "collapsed": false
   },
   "id": "4968699693c2a530"
  },
  {
   "cell_type": "code",
   "execution_count": 76,
   "outputs": [
    {
     "data": {
      "text/plain": "Pipeline(steps=[('ct',\n                 ColumnTransformer(transformers=[('On-hot-encode',\n                                                  OneHotEncoder(handle_unknown='ignore'),\n                                                  ['marital-status',\n                                                   'occupation', 'relationship',\n                                                   'race']),\n                                                 ('scaling', MinMaxScaler(),\n                                                  ['age', 'fnlwgt', 'education',\n                                                   'education-num',\n                                                   'hours-per-week'])])),\n                ('model',\n                 XGBClassifier(base_score=None, booster=None, callbacks=None,\n                               class_wieght={0: 1, 1: 1.5},\n                               c...\n                               feature_types=None, gamma=None, grow_policy=None,\n                               importance_type=None,\n                               interaction_constraints=None, learning_rate=None,\n                               max_bin=None, max_cat_threshold=None,\n                               max_cat_to_onehot=None, max_delta_step=None,\n                               max_depth=2, max_leaves=None,\n                               min_child_weight=None, missing=nan,\n                               monotone_constraints=None, multi_strategy=None,\n                               n_estimators=100, n_jobs=None,\n                               num_parallel_tree=None, ...))])",
      "text/html": "<style>#sk-container-id-3 {color: black;background-color: white;}#sk-container-id-3 pre{padding: 0;}#sk-container-id-3 div.sk-toggleable {background-color: white;}#sk-container-id-3 label.sk-toggleable__label {cursor: pointer;display: block;width: 100%;margin-bottom: 0;padding: 0.3em;box-sizing: border-box;text-align: center;}#sk-container-id-3 label.sk-toggleable__label-arrow:before {content: \"▸\";float: left;margin-right: 0.25em;color: #696969;}#sk-container-id-3 label.sk-toggleable__label-arrow:hover:before {color: black;}#sk-container-id-3 div.sk-estimator:hover label.sk-toggleable__label-arrow:before {color: black;}#sk-container-id-3 div.sk-toggleable__content {max-height: 0;max-width: 0;overflow: hidden;text-align: left;background-color: #f0f8ff;}#sk-container-id-3 div.sk-toggleable__content pre {margin: 0.2em;color: black;border-radius: 0.25em;background-color: #f0f8ff;}#sk-container-id-3 input.sk-toggleable__control:checked~div.sk-toggleable__content {max-height: 200px;max-width: 100%;overflow: auto;}#sk-container-id-3 input.sk-toggleable__control:checked~label.sk-toggleable__label-arrow:before {content: \"▾\";}#sk-container-id-3 div.sk-estimator input.sk-toggleable__control:checked~label.sk-toggleable__label {background-color: #d4ebff;}#sk-container-id-3 div.sk-label input.sk-toggleable__control:checked~label.sk-toggleable__label {background-color: #d4ebff;}#sk-container-id-3 input.sk-hidden--visually {border: 0;clip: rect(1px 1px 1px 1px);clip: rect(1px, 1px, 1px, 1px);height: 1px;margin: -1px;overflow: hidden;padding: 0;position: absolute;width: 1px;}#sk-container-id-3 div.sk-estimator {font-family: monospace;background-color: #f0f8ff;border: 1px dotted black;border-radius: 0.25em;box-sizing: border-box;margin-bottom: 0.5em;}#sk-container-id-3 div.sk-estimator:hover {background-color: #d4ebff;}#sk-container-id-3 div.sk-parallel-item::after {content: \"\";width: 100%;border-bottom: 1px solid gray;flex-grow: 1;}#sk-container-id-3 div.sk-label:hover label.sk-toggleable__label {background-color: #d4ebff;}#sk-container-id-3 div.sk-serial::before {content: \"\";position: absolute;border-left: 1px solid gray;box-sizing: border-box;top: 0;bottom: 0;left: 50%;z-index: 0;}#sk-container-id-3 div.sk-serial {display: flex;flex-direction: column;align-items: center;background-color: white;padding-right: 0.2em;padding-left: 0.2em;position: relative;}#sk-container-id-3 div.sk-item {position: relative;z-index: 1;}#sk-container-id-3 div.sk-parallel {display: flex;align-items: stretch;justify-content: center;background-color: white;position: relative;}#sk-container-id-3 div.sk-item::before, #sk-container-id-3 div.sk-parallel-item::before {content: \"\";position: absolute;border-left: 1px solid gray;box-sizing: border-box;top: 0;bottom: 0;left: 50%;z-index: -1;}#sk-container-id-3 div.sk-parallel-item {display: flex;flex-direction: column;z-index: 1;position: relative;background-color: white;}#sk-container-id-3 div.sk-parallel-item:first-child::after {align-self: flex-end;width: 50%;}#sk-container-id-3 div.sk-parallel-item:last-child::after {align-self: flex-start;width: 50%;}#sk-container-id-3 div.sk-parallel-item:only-child::after {width: 0;}#sk-container-id-3 div.sk-dashed-wrapped {border: 1px dashed gray;margin: 0 0.4em 0.5em 0.4em;box-sizing: border-box;padding-bottom: 0.4em;background-color: white;}#sk-container-id-3 div.sk-label label {font-family: monospace;font-weight: bold;display: inline-block;line-height: 1.2em;}#sk-container-id-3 div.sk-label-container {text-align: center;}#sk-container-id-3 div.sk-container {/* jupyter's `normalize.less` sets `[hidden] { display: none; }` but bootstrap.min.css set `[hidden] { display: none !important; }` so we also need the `!important` here to be able to override the default hidden behavior on the sphinx rendered scikit-learn.org. See: https://github.com/scikit-learn/scikit-learn/issues/21755 */display: inline-block !important;position: relative;}#sk-container-id-3 div.sk-text-repr-fallback {display: none;}</style><div id=\"sk-container-id-3\" class=\"sk-top-container\"><div class=\"sk-text-repr-fallback\"><pre>Pipeline(steps=[(&#x27;ct&#x27;,\n                 ColumnTransformer(transformers=[(&#x27;On-hot-encode&#x27;,\n                                                  OneHotEncoder(handle_unknown=&#x27;ignore&#x27;),\n                                                  [&#x27;marital-status&#x27;,\n                                                   &#x27;occupation&#x27;, &#x27;relationship&#x27;,\n                                                   &#x27;race&#x27;]),\n                                                 (&#x27;scaling&#x27;, MinMaxScaler(),\n                                                  [&#x27;age&#x27;, &#x27;fnlwgt&#x27;, &#x27;education&#x27;,\n                                                   &#x27;education-num&#x27;,\n                                                   &#x27;hours-per-week&#x27;])])),\n                (&#x27;model&#x27;,\n                 XGBClassifier(base_score=None, booster=None, callbacks=None,\n                               class_wieght={0: 1, 1: 1.5},\n                               c...\n                               feature_types=None, gamma=None, grow_policy=None,\n                               importance_type=None,\n                               interaction_constraints=None, learning_rate=None,\n                               max_bin=None, max_cat_threshold=None,\n                               max_cat_to_onehot=None, max_delta_step=None,\n                               max_depth=2, max_leaves=None,\n                               min_child_weight=None, missing=nan,\n                               monotone_constraints=None, multi_strategy=None,\n                               n_estimators=100, n_jobs=None,\n                               num_parallel_tree=None, ...))])</pre><b>In a Jupyter environment, please rerun this cell to show the HTML representation or trust the notebook. <br />On GitHub, the HTML representation is unable to render, please try loading this page with nbviewer.org.</b></div><div class=\"sk-container\" hidden><div class=\"sk-item sk-dashed-wrapped\"><div class=\"sk-label-container\"><div class=\"sk-label sk-toggleable\"><input class=\"sk-toggleable__control sk-hidden--visually\" id=\"sk-estimator-id-15\" type=\"checkbox\" ><label for=\"sk-estimator-id-15\" class=\"sk-toggleable__label sk-toggleable__label-arrow\">Pipeline</label><div class=\"sk-toggleable__content\"><pre>Pipeline(steps=[(&#x27;ct&#x27;,\n                 ColumnTransformer(transformers=[(&#x27;On-hot-encode&#x27;,\n                                                  OneHotEncoder(handle_unknown=&#x27;ignore&#x27;),\n                                                  [&#x27;marital-status&#x27;,\n                                                   &#x27;occupation&#x27;, &#x27;relationship&#x27;,\n                                                   &#x27;race&#x27;]),\n                                                 (&#x27;scaling&#x27;, MinMaxScaler(),\n                                                  [&#x27;age&#x27;, &#x27;fnlwgt&#x27;, &#x27;education&#x27;,\n                                                   &#x27;education-num&#x27;,\n                                                   &#x27;hours-per-week&#x27;])])),\n                (&#x27;model&#x27;,\n                 XGBClassifier(base_score=None, booster=None, callbacks=None,\n                               class_wieght={0: 1, 1: 1.5},\n                               c...\n                               feature_types=None, gamma=None, grow_policy=None,\n                               importance_type=None,\n                               interaction_constraints=None, learning_rate=None,\n                               max_bin=None, max_cat_threshold=None,\n                               max_cat_to_onehot=None, max_delta_step=None,\n                               max_depth=2, max_leaves=None,\n                               min_child_weight=None, missing=nan,\n                               monotone_constraints=None, multi_strategy=None,\n                               n_estimators=100, n_jobs=None,\n                               num_parallel_tree=None, ...))])</pre></div></div></div><div class=\"sk-serial\"><div class=\"sk-item sk-dashed-wrapped\"><div class=\"sk-label-container\"><div class=\"sk-label sk-toggleable\"><input class=\"sk-toggleable__control sk-hidden--visually\" id=\"sk-estimator-id-16\" type=\"checkbox\" ><label for=\"sk-estimator-id-16\" class=\"sk-toggleable__label sk-toggleable__label-arrow\">ct: ColumnTransformer</label><div class=\"sk-toggleable__content\"><pre>ColumnTransformer(transformers=[(&#x27;On-hot-encode&#x27;,\n                                 OneHotEncoder(handle_unknown=&#x27;ignore&#x27;),\n                                 [&#x27;marital-status&#x27;, &#x27;occupation&#x27;,\n                                  &#x27;relationship&#x27;, &#x27;race&#x27;]),\n                                (&#x27;scaling&#x27;, MinMaxScaler(),\n                                 [&#x27;age&#x27;, &#x27;fnlwgt&#x27;, &#x27;education&#x27;, &#x27;education-num&#x27;,\n                                  &#x27;hours-per-week&#x27;])])</pre></div></div></div><div class=\"sk-parallel\"><div class=\"sk-parallel-item\"><div class=\"sk-item\"><div class=\"sk-label-container\"><div class=\"sk-label sk-toggleable\"><input class=\"sk-toggleable__control sk-hidden--visually\" id=\"sk-estimator-id-17\" type=\"checkbox\" ><label for=\"sk-estimator-id-17\" class=\"sk-toggleable__label sk-toggleable__label-arrow\">On-hot-encode</label><div class=\"sk-toggleable__content\"><pre>[&#x27;marital-status&#x27;, &#x27;occupation&#x27;, &#x27;relationship&#x27;, &#x27;race&#x27;]</pre></div></div></div><div class=\"sk-serial\"><div class=\"sk-item\"><div class=\"sk-estimator sk-toggleable\"><input class=\"sk-toggleable__control sk-hidden--visually\" id=\"sk-estimator-id-18\" type=\"checkbox\" ><label for=\"sk-estimator-id-18\" class=\"sk-toggleable__label sk-toggleable__label-arrow\">OneHotEncoder</label><div class=\"sk-toggleable__content\"><pre>OneHotEncoder(handle_unknown=&#x27;ignore&#x27;)</pre></div></div></div></div></div></div><div class=\"sk-parallel-item\"><div class=\"sk-item\"><div class=\"sk-label-container\"><div class=\"sk-label sk-toggleable\"><input class=\"sk-toggleable__control sk-hidden--visually\" id=\"sk-estimator-id-19\" type=\"checkbox\" ><label for=\"sk-estimator-id-19\" class=\"sk-toggleable__label sk-toggleable__label-arrow\">scaling</label><div class=\"sk-toggleable__content\"><pre>[&#x27;age&#x27;, &#x27;fnlwgt&#x27;, &#x27;education&#x27;, &#x27;education-num&#x27;, &#x27;hours-per-week&#x27;]</pre></div></div></div><div class=\"sk-serial\"><div class=\"sk-item\"><div class=\"sk-estimator sk-toggleable\"><input class=\"sk-toggleable__control sk-hidden--visually\" id=\"sk-estimator-id-20\" type=\"checkbox\" ><label for=\"sk-estimator-id-20\" class=\"sk-toggleable__label sk-toggleable__label-arrow\">MinMaxScaler</label><div class=\"sk-toggleable__content\"><pre>MinMaxScaler()</pre></div></div></div></div></div></div></div></div><div class=\"sk-item\"><div class=\"sk-estimator sk-toggleable\"><input class=\"sk-toggleable__control sk-hidden--visually\" id=\"sk-estimator-id-21\" type=\"checkbox\" ><label for=\"sk-estimator-id-21\" class=\"sk-toggleable__label sk-toggleable__label-arrow\">XGBClassifier</label><div class=\"sk-toggleable__content\"><pre>XGBClassifier(base_score=None, booster=None, callbacks=None,\n              class_wieght={0: 1, 1: 1.5}, colsample_bylevel=None,\n              colsample_bynode=None, colsample_bytree=None, device=None,\n              early_stopping_rounds=None, enable_categorical=False,\n              eval_metric=None, feature_types=None, gamma=None,\n              grow_policy=None, importance_type=None,\n              interaction_constraints=None, learning_rate=None, max_bin=None,\n              max_cat_threshold=None, max_cat_to_onehot=None,\n              max_delta_step=None, max_depth=2, max_leaves=None,\n              min_child_weight=None, missing=nan, monotone_constraints=None,\n              multi_strategy=None, n_estimators=100, n_jobs=None,\n              num_parallel_tree=None, ...)</pre></div></div></div></div></div></div></div>"
     },
     "execution_count": 76,
     "metadata": {},
     "output_type": "execute_result"
    }
   ],
   "source": [
    "#create a Pipeline and build a xgboost\n",
    "pipeline_xgb=Pipeline([\n",
    "    ('ct',ct),\n",
    "    ('model',XGBClassifier(n_estimators=100,max_depth=2,class_wieght={0:1,1:1.5}))\n",
    "])\n",
    "pipeline_xgb.fit(x_train,y_train)"
   ],
   "metadata": {
    "collapsed": false,
    "ExecuteTime": {
     "end_time": "2023-09-21T16:11:54.917875669Z",
     "start_time": "2023-09-21T16:11:53.521298772Z"
    }
   },
   "id": "cb2d123fc0fc52fd"
  },
  {
   "cell_type": "code",
   "execution_count": 77,
   "outputs": [
    {
     "name": "stdout",
     "output_type": "stream",
     "text": [
      "-----------o-------------\n",
      "Accuracy: 84.07786567395688\n",
      "------------o------------\n",
      "Classfication report:\n",
      "               precision    recall  f1-score   support\n",
      "\n",
      "           0       0.87      0.93      0.90     19575\n",
      "           1       0.72      0.56      0.63      6213\n",
      "\n",
      "    accuracy                           0.84     25788\n",
      "   macro avg       0.79      0.75      0.76     25788\n",
      "weighted avg       0.83      0.84      0.83     25788\n",
      "\n",
      "------------o------------\n",
      "Logistic regression Confusion Matrix:\n",
      " [[18180  1395]\n",
      " [ 2711  3502]]\n",
      "----------------o--------------\n"
     ]
    }
   ],
   "source": [
    "evaluate(pipeline_xgb,x_train,y_train)"
   ],
   "metadata": {
    "collapsed": false,
    "ExecuteTime": {
     "end_time": "2023-09-21T16:11:54.927982760Z",
     "start_time": "2023-09-21T16:11:53.749155091Z"
    }
   },
   "id": "8a6680f3edd1f0b9"
  },
  {
   "cell_type": "code",
   "execution_count": 78,
   "outputs": [
    {
     "name": "stdout",
     "output_type": "stream",
     "text": [
      "-----------o-------------\n",
      "Accuracy: 83.00248138957816\n",
      "------------o------------\n",
      "Classfication report:\n",
      "               precision    recall  f1-score   support\n",
      "\n",
      "           0       0.87      0.92      0.89      4894\n",
      "           1       0.68      0.56      0.61      1554\n",
      "\n",
      "    accuracy                           0.83      6448\n",
      "   macro avg       0.77      0.74      0.75      6448\n",
      "weighted avg       0.82      0.83      0.82      6448\n",
      "\n",
      "------------o------------\n",
      "Logistic regression Confusion Matrix:\n",
      " [[4489  405]\n",
      " [ 691  863]]\n",
      "----------------o--------------\n"
     ]
    }
   ],
   "source": [
    "#testing score\n",
    "evaluate(pipeline_xgb,x_test,y_test)"
   ],
   "metadata": {
    "collapsed": false,
    "ExecuteTime": {
     "end_time": "2023-09-21T16:11:54.928219397Z",
     "start_time": "2023-09-21T16:11:53.800537254Z"
    }
   },
   "id": "f9e6fc805760d596"
  },
  {
   "cell_type": "markdown",
   "source": [
    "## Roc-Auc Curve"
   ],
   "metadata": {
    "collapsed": false
   },
   "id": "a9a84f42d8cbdeda"
  },
  {
   "cell_type": "code",
   "execution_count": 82,
   "outputs": [
    {
     "data": {
      "text/plain": "<sklearn.metrics._plot.roc_curve.RocCurveDisplay at 0x7f60e79bd750>"
     },
     "execution_count": 82,
     "metadata": {},
     "output_type": "execute_result"
    },
    {
     "data": {
      "text/plain": "<Figure size 640x480 with 1 Axes>",
      "image/png": "[encoded data removed]"
     },
     "metadata": {},
     "output_type": "display_data"
    }
   ],
   "source": [
    "#plot roc-auc curve for both the model\n",
    "disp=RocCurveDisplay.from_estimator(pipeline_xgb,x_test,y_test,name='XGboost')\n",
    "RocCurveDisplay.from_estimator(pipeline_wt_balance,x_test,y_test,ax=disp.ax_,name='LogisticRegression')"
   ],
   "metadata": {
    "collapsed": false,
    "ExecuteTime": {
     "end_time": "2023-09-21T16:13:17.714116648Z",
     "start_time": "2023-09-21T16:13:17.445756347Z"
    }
   },
   "id": "d68353c6c27a5015"
  },
  {
   "cell_type": "markdown",
   "source": [
    "* From the above we can see that AUC is higher for XGboost model. We should chose this model as this is giving better generalization than logistic model."
   ],
   "metadata": {
    "collapsed": false
   },
   "id": "9e5e791c3e72cb8d"
  },
  {
   "cell_type": "markdown",
   "source": [
    "**Business Problem**\n",
    "The business problem we are trying to solve is predicting whether an individual's income exceeds $50K per year based on census data. We built two models in our analyis LogisticRegression and XGboost\n",
    "\n",
    "* LogisticRegression has given a reasonable performance based on its AUC score\n",
    "* XGboost is a boosting (ensemble) technique which performs generally better than other machine learning algorithms. The model has shown better performance in terms f1-score, auc score. "
   ],
   "metadata": {
    "collapsed": false
   },
   "id": "a8ea713e939c1948"
  },
  {
   "cell_type": "code",
   "execution_count": null,
   "outputs": [],
   "source": [],
   "metadata": {
    "collapsed": false
   },
   "id": "2ae34c410dea24b5"
  }
 ],
 "metadata": {
  "kernelspec": {
   "display_name": "Python 3",
   "language": "python",
   "name": "python3"
  },
  "language_info": {
   "codemirror_mode": {
    "name": "ipython",
    "version": 2
   },
   "file_extension": ".py",
   "mimetype": "text/x-python",
   "name": "python",
   "nbconvert_exporter": "python",
   "pygments_lexer": "ipython2",
   "version": "2.7.6"
  }
 },
 "nbformat": 4,
 "nbformat_minor": 5
}
